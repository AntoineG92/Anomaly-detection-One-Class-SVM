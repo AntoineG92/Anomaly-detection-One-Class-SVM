{
 "cells": [
  {
   "cell_type": "code",
   "execution_count": 1,
   "metadata": {},
   "outputs": [
    {
     "name": "stdout",
     "output_type": "stream",
     "text": [
      "\r\n",
      "CondaEnvironmentNotFoundError: Could not find environment: py2 .\r\n",
      "You can list all discoverable environments with `conda info --envs`.\r\n",
      "\r\n"
     ]
    }
   ],
   "source": [
    "!source activate py2"
   ]
  },
  {
   "cell_type": "code",
   "execution_count": 2,
   "metadata": {},
   "outputs": [
    {
     "ename": "ModuleNotFoundError",
     "evalue": "No module named 'functions_plot'",
     "output_type": "error",
     "traceback": [
      "\u001b[0;31m---------------------------------------------------------------------------\u001b[0m",
      "\u001b[0;31mModuleNotFoundError\u001b[0m                       Traceback (most recent call last)",
      "\u001b[0;32m<ipython-input-2-d757c46f956d>\u001b[0m in \u001b[0;36m<module>\u001b[0;34m()\u001b[0m\n\u001b[0;32m----> 1\u001b[0;31m \u001b[0;32mfrom\u001b[0m \u001b[0mfunctions_plot\u001b[0m \u001b[0;32mimport\u001b[0m \u001b[0;34m*\u001b[0m\u001b[0;34m\u001b[0m\u001b[0m\n\u001b[0m\u001b[1;32m      2\u001b[0m \u001b[0;32mimport\u001b[0m \u001b[0mnumpy\u001b[0m \u001b[0;32mas\u001b[0m \u001b[0mnp\u001b[0m\u001b[0;34m\u001b[0m\u001b[0m\n\u001b[1;32m      3\u001b[0m \u001b[0;32mimport\u001b[0m \u001b[0mmatplotlib\u001b[0m\u001b[0;34m.\u001b[0m\u001b[0mpyplot\u001b[0m \u001b[0;32mas\u001b[0m \u001b[0mplt\u001b[0m\u001b[0;34m\u001b[0m\u001b[0m\n\u001b[1;32m      4\u001b[0m \u001b[0mget_ipython\u001b[0m\u001b[0;34m(\u001b[0m\u001b[0;34m)\u001b[0m\u001b[0;34m.\u001b[0m\u001b[0mmagic\u001b[0m\u001b[0;34m(\u001b[0m\u001b[0;34m'matplotlib inline'\u001b[0m\u001b[0;34m)\u001b[0m\u001b[0;34m\u001b[0m\u001b[0m\n",
      "\u001b[0;31mModuleNotFoundError\u001b[0m: No module named 'functions_plot'"
     ]
    }
   ],
   "source": [
    "from functions_plot import *\n",
    "import numpy as np\n",
    "import matplotlib.pyplot as plt\n",
    "% matplotlib inline"
   ]
  },
  {
   "cell_type": "code",
   "execution_count": 9,
   "metadata": {
    "collapsed": true
   },
   "outputs": [],
   "source": [
    "class OCC:\n",
    "    \n",
    "    def __init__(self, X, step = 0.05, eps = 0):\n",
    "        import matplotlib.pyplot as plt\n",
    "        import numpy as np\n",
    "        \n",
    "        self.X = X\n",
    "        self.n = X.shape[0]\n",
    "        self.figsize = (10,5)\n",
    "        \n",
    "        # plot parameters\n",
    "        self.step = step\n",
    "        self.eps = eps\n",
    "        self.norm_colors = mpl.colors.Normalize(vmin=0,vmax=100)\n",
    "        self.set_grid()\n",
    "        \n",
    "        pass\n",
    "    \n",
    "    # Plot functions\n",
    "    \n",
    "    def plot(self):\n",
    "        plt.scatter(self.X[:,0], self.X[:,1], edgecolors  = 'black')\n",
    "        plt.xlim((min(self.X[:,0])-self.step,max(self.X[:,0])+self.step))\n",
    "        plt.ylim((min(self.X[:,1])-self.step,max(self.X[:,1])+self.step))\n",
    "        pass\n",
    "    \n",
    "    def set_grid(self):\n",
    "        self.x_axis = np.arange(min(self.X[:,0])-self.step,max(self.X[:,0])+2*self.step,self.step)\n",
    "        self.y_axis = np.arange(min(self.X[:,1])-self.step,max(self.X[:,1])+2*self.step,self.step)\n",
    "\n",
    "        self.my_grid = []\n",
    "        for i in self.x_axis:\n",
    "            for j in self.y_axis:\n",
    "                self.my_grid.append([i,j])\n",
    "        self.my_grid = np.array(self.my_grid)\n",
    "\n",
    "        pass\n",
    "\n",
    "    def Normalize_Pred(self):    \n",
    "        self.pred_100 = self.pred -np.min(self.pred)\n",
    "        self.pred_100 = (self.pred_100 / np.max(self.pred_100)) * 100\n",
    "        pass\n",
    "\n",
    "    def set_delim(self):\n",
    "        ix_delim = np.where((self.pred  < self.eps) & (self.pred  > -self.eps))[0]\n",
    "        self.x_delim = []\n",
    "        self.y_delim = []\n",
    "        for i in range(len(ix_delim)):\n",
    "            a, b = np.divmod(ix_delim[i],len(self.y_axis))\n",
    "            self.x_delim.append(self.x_axis[a])\n",
    "            self.y_delim.append(self.y_axis[b])\n",
    "        pass\n",
    "\n",
    "    def plot_pred(self, pred):\n",
    "        \n",
    "        X_axis, Y_axis = np.meshgrid(self.x_axis, self.y_axis)\n",
    "        C = np.transpose(pred.reshape((len(self.x_axis), len(self.y_axis))))\n",
    "        plt.pcolor(X_axis, Y_axis, C, norm = self.norm_colors, cmap = 'YlOrRd')\n",
    "        plt.scatter(self.x_delim, self.y_delim, c = 'black', s = 10)\n",
    "        self.plot()\n",
    "        pass\n",
    "\n",
    "    def plot_pred_plan(self):\n",
    "        self.pred = self.predict(self.my_grid)\n",
    "        self.pred_bin = np.sign(self.pred)\n",
    "        self.set_delim()\n",
    "        self.Normalize_Pred()\n",
    "        \n",
    "        plt.figure(figsize=self.figsize)\n",
    "        plt.subplot(1,2,1)\n",
    "        self.plot_pred(self.pred_100)\n",
    "        plt.subplot(1,2,2)\n",
    "        self.plot_pred((self.pred_bin+1)*100)\n",
    "        pass\n",
    "    \n",
    "    \n",
    "    # Skeletons for fit and predict\n",
    "    def fit(self):\n",
    "        pass\n",
    "    \n",
    "    def predict(self):\n",
    "        pass\n",
    "    \n",
    "    # Others methods\n",
    "    def RBF_Kernel(self, X, sigma2, Y = None):\n",
    "        \" Compute the RBF kernel matrix of X\"\n",
    "        from sklearn.metrics.pairwise import euclidean_distances\n",
    "\n",
    "        if type(Y)==type(None):\n",
    "            Y = X\n",
    "\n",
    "        K = euclidean_distances(X,Y, squared=True)\n",
    "        K *= -1./sigma2\n",
    "        K = np.exp(K)\n",
    "        return K"
   ]
  },
  {
   "cell_type": "code",
   "execution_count": 5,
   "metadata": {
    "collapsed": true
   },
   "outputs": [],
   "source": [
    "class OSVM(OCC):\n",
    "    \" Support Vector Method for Novelty Detection \\\n",
    "      Bernhard Schokopf, Robert Williamsonx, Alex Smolax, John Shawe-Taylory, John Platt \\\n",
    "      Quadratic Programming \"\n",
    "    \n",
    "    def fit(self, nu, sigma2):\n",
    "        from cvxopt import solvers, lapack, matrix, spmatrix\n",
    "        solvers.options['show_progress'] = 0\n",
    "        \n",
    "        n = self.n\n",
    "        self.sigma2 = sigma2\n",
    "        K = self.RBF_Kernel(self.X, sigma2)\n",
    "\n",
    "        P = matrix(K, tc = 'd')\n",
    "        q = matrix([0]*n, tc = 'd')\n",
    "        G = matrix(np.concatenate([np.eye(n),-np.eye(n)], axis = 0), tc = 'd')\n",
    "        h_value = [1./(n * nu)]*n\n",
    "        h_value.extend([0]*n)\n",
    "        h = matrix(h_value, tc = 'd')\n",
    "        A = matrix(np.reshape([1]*n, (1,n)), tc = 'd')\n",
    "        b = matrix(1, tc = 'd')\n",
    "\n",
    "        sol = solvers.qp(P,q,G,h,A,b)\n",
    "        self.alpha = np.array(sol['x'])\n",
    "        ix_in = np.where((self.alpha > 1e-5) & (self.alpha < 1./(n*nu)))[0][0]\n",
    "        self.rho = np.inner(np.reshape(self.alpha, (1,n)), K[:,ix_in])\n",
    "        pass\n",
    "\n",
    "    def predict(self, newData):\n",
    "        K = self.RBF_Kernel(self.X, self.sigma2, newData)\n",
    "        return np.transpose(np.dot(np.reshape(self.alpha, (1,self.n)), K) - self.rho)"
   ]
  },
  {
   "cell_type": "code",
   "execution_count": 6,
   "metadata": {
    "collapsed": true
   },
   "outputs": [],
   "source": [
    "class OSVM2(OCC):\n",
    "    \" Simple Incremental One-Class Support Vector Classification \\\n",
    "      Kai Labusch, Fabian Timm, and Thomas Martinetz \"\n",
    "    \n",
    "    def RBF_Kernel(self, X, sigma2, Y = None):\n",
    "        \" Compute the RBF kernel matrix of X\"\n",
    "        from sklearn.metrics.pairwise import euclidean_distances\n",
    "\n",
    "        if type(Y)==type(None):\n",
    "            Y = X\n",
    "\n",
    "        K = euclidean_distances(X,Y, squared=True)\n",
    "        K *= -1./sigma2\n",
    "        K = np.exp(K)\n",
    "        return K\n",
    "    \n",
    "    def fit(self, nu, sigma2, nbIter = 1000):\n",
    "        \n",
    "        n = self.n\n",
    "        self.sigma2 = sigma2\n",
    "        \n",
    "        K = self.RBF_Kernel(self.X, sigma2)\n",
    "        alpha = np.zeros(n)\n",
    "        count = 0\n",
    "        Z = self.X.copy()\n",
    "        i_min = np.random.choice(range(n), 1)\n",
    "        i_max = np.random.choice(range(n), 1)\n",
    "        while (i_max == i_min):\n",
    "            i_max = np.random.choice(range(n), 1)\n",
    "\n",
    "        while count < nbIter:\n",
    "            count = count + 1\n",
    "            K = self.RBF_Kernel(Z, 1)\n",
    "            h = np.dot(K + (n*nu)/2 * np.eye(n), alpha)\n",
    "            i_min2 = np.argmin(h)\n",
    "            ix_in = np.where(alpha > 1e-7)[0]\n",
    "            if len(ix_in) > 0:\n",
    "                i_max2 = ix_in[np.argmax(h[ix_in])]\n",
    "            else:\n",
    "                i_max2 = np.argmax(h)\n",
    "            Z[i_min,:] = Z[i_min2,:]\n",
    "            Z[i_max,:] = Z[i_max2,:]\n",
    "            i_min = i_min2\n",
    "            i_max = i_max2\n",
    "            i_min_alpha = np.argmin(alpha)\n",
    "            i_max_alpha = np.argmax(alpha)\n",
    "            alpha[i_min_alpha] = alpha[i_min_alpha]+2\n",
    "            alpha[i_max_alpha] = alpha[i_max_alpha]-1\n",
    "\n",
    "        h = np.dot(K + (n*nu)/2 * np.eye(n), alpha)\n",
    "        self.alpha = alpha / np.sqrt(np.dot(alpha, h))\n",
    "        h = np.dot(K + (n*nu)/2 * np.eye(n), self.alpha)\n",
    "        self.rho = min(h)\n",
    "        pass\n",
    "\n",
    "    def predict(self, newData):\n",
    "        K = self.RBF_Kernel(self.X, self.sigma2, newData)\n",
    "        return np.transpose(np.dot(np.reshape(self.alpha, (1,self.n)), K) - self.rho)"
   ]
  },
  {
   "cell_type": "code",
   "execution_count": 7,
   "metadata": {
    "collapsed": true
   },
   "outputs": [],
   "source": [
    "class OkNN(OCC):\n",
    "    \n",
    "    \" Multi-Class and Single-Class Classification Approaches to Vehicle Model Recognition from Images \\\n",
    "      Daniel T. Munroe and Michael G. Madden \"\n",
    "    \n",
    "    def fit(self, thresh, k, kernel = False):\n",
    "        self.thresh = thresh\n",
    "        self.k = k\n",
    "        self.kernel = kernel\n",
    "        \n",
    "        pass\n",
    "    \n",
    "    def predict(self, newData):\n",
    "        from sklearn.metrics.pairwise import euclidean_distances\n",
    "        \n",
    "        n = self.n\n",
    "        n2 = newData.shape[0]\n",
    "        \n",
    "        if self.kernel:\n",
    "            K = self.RBF_Kernel(self.X, 1)\n",
    "            K2 = np.transpose(self.RBF_Kernel(self.X, 1, newData))\n",
    "            D = euclidean_distances(K, K2, squared=True) # (n, len(newData))\n",
    "        else:\n",
    "            D = euclidean_distances(self.X, newData, squared=True) # (n, len(newData))\n",
    "        # Find k nearest neighbours for each column\n",
    "        col_range = range(D.shape[1])\n",
    "        \n",
    "        if self.k==1:\n",
    "            ix_nns = np.argsort(D, axis = 0)[:2, :]\n",
    "        else:\n",
    "            ix_nns = np.argsort(D, axis = 0)[:self.k, :]\n",
    "        ix_nn = ix_nns[0,:]\n",
    "        D1 = D[ix_nn, col_range]\n",
    "        D2 = np.mean(D[ix_nns, col_range], axis = 0)\n",
    "        #pred = np.array(D1/D2 < self.thresh, dtype = int)\n",
    "        pred = - D1/D2 + self.thresh\n",
    "        return pred"
   ]
  },
  {
   "cell_type": "code",
   "execution_count": 8,
   "metadata": {
    "collapsed": true
   },
   "outputs": [],
   "source": [
    "class OkMeans(OCC):\n",
    "    \" Visual Object Recognition through One-Class Learning \\\n",
    "      QingHua Wang, Luís Seabra Lopes, and David M. J. Tax \"\n",
    "    \n",
    "    def fit(self, thresh, k, kernel = False):\n",
    "        from sklearn.cluster import KMeans\n",
    "        \n",
    "        self.thresh = thresh\n",
    "        self.k = k\n",
    "        self.kernel = kernel\n",
    "        if kernel:\n",
    "            K = self.RBF_Kernel(self.X, 1)            \n",
    "        else:\n",
    "            K = self.X\n",
    "\n",
    "        kmeans = KMeans(n_clusters=k).fit(K)\n",
    "        self.centers = kmeans.cluster_centers_\n",
    "        \n",
    "        pass\n",
    "    \n",
    "    def predict(self, newData):\n",
    "        from sklearn.metrics.pairwise import euclidean_distances\n",
    "        if self.kernel:\n",
    "            newData = np.transpose(self.RBF_Kernel(self.X, 1, newData))\n",
    "        D = euclidean_distances(newData, self.centers, squared=True)\n",
    "        D = np.min(D, axis = 1)\n",
    "        pred = -D + self.thresh\n",
    "        return pred"
   ]
  },
  {
   "cell_type": "markdown",
   "metadata": {},
   "source": [
    "X = 0.3 * np.random.randn(100, 2)\n",
    "X = np.r_[X + 2, X - 2]\n",
    "plot(X)"
   ]
  },
  {
   "cell_type": "markdown",
   "metadata": {},
   "source": [
    "osvm = OSVM(X)\n",
    "nu = 0.001\n",
    "sigma2 = 20\n",
    "osvm.fit(nu, sigma2)\n",
    "osvm.plot_pred_plan()"
   ]
  },
  {
   "cell_type": "markdown",
   "metadata": {},
   "source": [
    "osvm2 = OSVM2(X)\n",
    "nu = 0.001\n",
    "sigma2 = 5\n",
    "osvm2.fit(nu, sigma2)\n",
    "osvm2.plot_pred_plan()"
   ]
  },
  {
   "cell_type": "markdown",
   "metadata": {},
   "source": [
    "oknn = OkNN(X)\n",
    "oknn.fit(thresh = 0.9, k = 1)\n",
    "oknn.plot_pred_plan()"
   ]
  },
  {
   "cell_type": "markdown",
   "metadata": {},
   "source": [
    "oknn = OkNN(X)\n",
    "oknn.fit(thresh = 0.9, k = 1, kernel = True)\n",
    "oknn.plot_pred_plan()"
   ]
  },
  {
   "cell_type": "markdown",
   "metadata": {},
   "source": [
    "okmeans = OkMeans(X)\n",
    "okmeans.fit(thresh = 10, k = 1)\n",
    "okmeans.plot_pred_plan()"
   ]
  },
  {
   "cell_type": "markdown",
   "metadata": {},
   "source": [
    "okmeans = OkMeans(X)\n",
    "okmeans.fit(thresh = 20, k = 1, kernel = True)\n",
    "okmeans.plot_pred_plan()"
   ]
  },
  {
   "cell_type": "code",
   "execution_count": null,
   "metadata": {
    "collapsed": true
   },
   "outputs": [],
   "source": []
  },
  {
   "cell_type": "code",
   "execution_count": null,
   "metadata": {
    "collapsed": true
   },
   "outputs": [],
   "source": []
  },
  {
   "cell_type": "code",
   "execution_count": null,
   "metadata": {
    "collapsed": true
   },
   "outputs": [],
   "source": []
  },
  {
   "cell_type": "code",
   "execution_count": null,
   "metadata": {
    "collapsed": true
   },
   "outputs": [],
   "source": []
  },
  {
   "cell_type": "markdown",
   "metadata": {},
   "source": [
    "### Variant of SMO (Sequential Minimal Optimization) : NE MARCHE PAS"
   ]
  },
  {
   "cell_type": "markdown",
   "metadata": {},
   "source": [
    "def get_C(alpha, K, i, j):\n",
    "    ix = [x for x in range(len(alpha)) if x not in [i,j]]\n",
    "    amp_alpha = alpha[ix]\n",
    "    amp_K = K[ix,:][:,ix]\n",
    "    \n",
    "    return np.dot(amp_alpha, np.dot(amp_K, amp_alpha))\n",
    "\n",
    "def get_Os(alpha, K, i, j):\n",
    "    Os = K[:,i] * alpha[i] + K[:,j] * alpha[j] + get_Cs(alpha, K, i, j)\n",
    "    return Os\n",
    "\n",
    "def get_Cs(alpha, K, i, j):\n",
    "    ix = [x for x in range(len(alpha)) if x not in [i,j]]\n",
    "    amp_alpha = alpha[ix]\n",
    "    amp_K = K[:,ix]\n",
    "    Cs = np.dot(amp_K, amp_alpha)\n",
    "    return Cs\n",
    "\n",
    "def is_support(alpha, u_bound, tol = 1e-7):\n",
    "    return (alpha >= tol) & (alpha <= -tol + u_bound)\n",
    "\n",
    "def update_rho(alpha, K, nu, u_bound):\n",
    "    n = len(alpha) # n = self.n\n",
    "    #nu = self.nu\n",
    "    ix_support = np.where(is_support(alpha, u_bound))[0][0]\n",
    "    rho = np.inner(np.reshape(alpha, (1,n)), K[:,ix_support])\n",
    "    return rho\n",
    "\n",
    "def update_alpha(alpha, K, i, j, u_bound):\n",
    "    ix = [x for x in range(len(alpha)) if x not in [i,j]]\n",
    "    amp_alpha = alpha[ix]\n",
    "    delta = 1 - np.sum(amp_alpha)\n",
    "    #Ci, Cj = get_Cs(alpha, K, i, j)\n",
    "    #alpha[j] = (delta * (K[i,i] - K[i,j]) + Ci - Cj) / (K[i,i] + K[j,j] - 2*K[i,j])\n",
    "    Os = get_Os(alpha, K, i, j)\n",
    "    alpha[j] = alpha[j] + (Os[i] - Os[j]) / (K[i,i] + K[j,j] - 2*K[i,j])\n",
    "    alpha[i] = delta - alpha[j]\n",
    "    print alpha[i], alpha[j]\n",
    "    alpha = project_alpha(alpha, i, j, delta, u_bound)\n",
    "    print alpha[i], alpha[j]\n",
    "    return alpha\n",
    "\n",
    "def project_alpha(alpha, i, j, delta, u_bound):\n",
    "    if (is_support(alpha[i], u_bound, tol = 0) & is_support(alpha[j], u_bound, tol = 0)):\n",
    "        return alpha\n",
    "    else:\n",
    "        alpha[j] = max(0, min(min(delta,u_bound), alpha[j]))\n",
    "        alpha[i] = max(0, min(u_bound, delta - alpha[j]))\n",
    "        return alpha"
   ]
  },
  {
   "cell_type": "markdown",
   "metadata": {},
   "source": [
    "if False:\n",
    "    ### Initialization\n",
    "    nu = 0.12\n",
    "    n = X.shape[0]\n",
    "\n",
    "    # Initialization of alpha\n",
    "    u_bound = 1./(nu*n)\n",
    "    alpha = np.zeros(n)\n",
    "    ix_non_zero = np.random.choice(range(n), int(np.floor(nu*n)), False)\n",
    "    alpha[ix_non_zero] = u_bound\n",
    "    if type(nu*n) != int:\n",
    "        ix = np.where(alpha == 0)[0]\n",
    "        ix = np.random.choice(ix, 1)\n",
    "        alpha[ix] = 1-np.sum(alpha)\n",
    "        ix_non_zero = np.append(ix_non_zero, ix)\n",
    "\n",
    "    # Initialization of rho\n",
    "    K = osvm.RBF_Kernel(X, 1)\n",
    "    i = np.arange(n)[ix_non_zero[0]]\n",
    "    j = np.arange(n)[ix_non_zero[1]]\n",
    "    Os = get_Os(alpha, K, i, j)\n",
    "    rho = np.max(Os[ix_non_zero])\n",
    "    alpha = update_alpha(alpha, K, i, j, u_bound)\n",
    "    rho = update_rho(alpha, K, nu, u_bound)\n",
    "\n",
    "\n",
    "    ### Optimization\n",
    "    cond1 = (Os - rho) * alpha > 1e-7\n",
    "    cond2 = (rho - Os) * (u_bound - alpha) > 1e-7\n",
    "    cond = cond1 | cond2\n",
    "    count = 0\n",
    "    while(sum(cond) > 1):\n",
    "        count = count +1\n",
    "        i = np.where(cond)[0][0]\n",
    "        ix_support = np.where(is_support(alpha, u_bound))[0]\n",
    "        j = ix_support[np.argmax(np.abs(Os[i] - Os[ix_support]))]\n",
    "        alpha = update_alpha(alpha, K, i, j, u_bound)\n",
    "        rho = update_rho(alpha, K, nu, u_bound)\n",
    "\n",
    "        cond1 = (Os - rho) * alpha > 1e-7\n",
    "        cond2 = (rho - Os) * (u_bound - alpha) > 1e-7\n",
    "        cond = cond1 | cond2\n",
    "\n",
    "        if count > 10000:\n",
    "            break"
   ]
  },
  {
   "cell_type": "code",
   "execution_count": null,
   "metadata": {
    "collapsed": true
   },
   "outputs": [],
   "source": []
  },
  {
   "cell_type": "code",
   "execution_count": null,
   "metadata": {
    "collapsed": true
   },
   "outputs": [],
   "source": []
  },
  {
   "cell_type": "code",
   "execution_count": null,
   "metadata": {
    "collapsed": true
   },
   "outputs": [],
   "source": []
  },
  {
   "cell_type": "code",
   "execution_count": null,
   "metadata": {
    "collapsed": true
   },
   "outputs": [],
   "source": []
  },
  {
   "cell_type": "code",
   "execution_count": null,
   "metadata": {
    "collapsed": true
   },
   "outputs": [],
   "source": []
  }
 ],
 "metadata": {
  "kernelspec": {
   "display_name": "Python 3",
   "language": "python",
   "name": "python3"
  },
  "language_info": {
   "codemirror_mode": {
    "name": "ipython",
    "version": 3
   },
   "file_extension": ".py",
   "mimetype": "text/x-python",
   "name": "python",
   "nbconvert_exporter": "python",
   "pygments_lexer": "ipython3",
   "version": "3.6.3"
  }
 },
 "nbformat": 4,
 "nbformat_minor": 2
}
