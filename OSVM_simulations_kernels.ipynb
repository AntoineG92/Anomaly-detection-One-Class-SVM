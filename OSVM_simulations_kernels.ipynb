{
 "cells": [
  {
   "cell_type": "markdown",
   "metadata": {},
   "source": [
    "**novelty detection**:\n",
    "The training data is not polluted by outliers, and we are interested in detecting anomalies in new observations.\n",
    "\n",
    "**outlier detection**:\n",
    "The training data contains outliers, and we need to fit the central mode of the training data, ignoring the deviant observations."
   ]
  },
  {
   "cell_type": "code",
   "execution_count": 75,
   "metadata": {
    "scrolled": true
   },
   "outputs": [
    {
     "name": "stdout",
     "output_type": "stream",
     "text": [
      "/bin/sh: activate: No such file or directory\r\n"
     ]
    }
   ],
   "source": [
    "!source activate py2"
   ]
  },
  {
   "cell_type": "code",
   "execution_count": 76,
   "metadata": {
    "collapsed": true
   },
   "outputs": [],
   "source": [
    "#!/anaconda3/envs/py2/bin/pip install cvxopt"
   ]
  },
  {
   "cell_type": "code",
   "execution_count": 77,
   "metadata": {
    "collapsed": true
   },
   "outputs": [],
   "source": [
    "import numpy as np\n",
    "from cvxopt import solvers, lapack, matrix, spmatrix\n",
    "solvers.options['show_progress'] = 0\n",
    "import matplotlib.pyplot as plt\n",
    "import matplotlib as mpl\n",
    "% matplotlib inline"
   ]
  },
  {
   "cell_type": "code",
   "execution_count": 78,
   "metadata": {
    "collapsed": true
   },
   "outputs": [],
   "source": [
    "def RBF_Kernel(X, sigma2, Y = None):\n",
    "    \" Compute the RBF kernel matrix of X\"\n",
    "    from sklearn.metrics.pairwise import euclidean_distances\n",
    "    \n",
    "    if type(Y)==type(None):\n",
    "        Y = X\n",
    "    \n",
    "    K = euclidean_distances(X,Y, squared=True)\n",
    "    K *= -1./sigma2\n",
    "    K = np.exp(K)\n",
    "    return K"
   ]
  },
  {
   "cell_type": "code",
   "execution_count": 79,
   "metadata": {
    "collapsed": true
   },
   "outputs": [],
   "source": [
    "def Poly_Kernel(X, d, c, Y=None):\n",
    "    if type(Y)==type(None):\n",
    "        Y = X.copy()\n",
    "    K = ( np.dot(X,Y.T) +c)**d\n",
    "    #from sklearn.metrics.pairwise import polynomial_kernel\n",
    "    #K = polynomial_kernel(X,Y,degree=d,coef0=c)\n",
    "    return(K)"
   ]
  },
  {
   "cell_type": "code",
   "execution_count": 80,
   "metadata": {
    "collapsed": true
   },
   "outputs": [],
   "source": [
    "def fit(X, nu, kernel):  #kernel is a list [kernel_type,sigma/d,c]\n",
    "    n = X.shape[0]\n",
    "    if kernel[0] == 'RBF':\n",
    "        sigma2 = kernel[1]\n",
    "        K = RBF_Kernel(X, sigma2)\n",
    "    else:\n",
    "        d, c = kernel[1:]\n",
    "        K = Poly_Kernel(X,d,c)\n",
    "\n",
    "    P = matrix(K, tc = 'd')\n",
    "    q = matrix([0]*n, tc = 'd')\n",
    "    G = matrix(np.concatenate([np.eye(n),-np.eye(n)], axis = 0), tc = 'd')\n",
    "    h_value = [1./(n * nu)]*n\n",
    "    h_value.extend([0]*n)\n",
    "    h = matrix(h_value, tc = 'd')\n",
    "    A = matrix(np.reshape([1]*n, (1,n)), tc = 'd')\n",
    "    b = matrix(1, tc = 'd')\n",
    "    \n",
    "    sol = solvers.qp(P,q,G,h,A,b)\n",
    "    alpha = np.array(sol['x'])\n",
    "    ix_in = np.where((alpha > 1e-5) & (alpha < 1./(n*nu)))[0][0]\n",
    "    rho = np.transpose(np.dot(np.reshape(alpha, (1,n)), K[:,ix_in]))\n",
    "\n",
    "    return alpha, rho\n",
    "\n",
    "def predict(X, newData, alpha, rho, kernel):\n",
    "    n = X.shape[0]\n",
    "    if kernel[0] == 'RBF':\n",
    "        sigma2 = kernel[1]\n",
    "        K = RBF_Kernel(X, sigma2, newData)\n",
    "    else:\n",
    "        d, c = kernel[1:]\n",
    "        K = Poly_Kernel(X,d,c,Y=newData)\n",
    "    return np.transpose(np.dot(np.reshape(alpha, (1,n)), K) - rho)"
   ]
  },
  {
   "cell_type": "code",
   "execution_count": 81,
   "metadata": {
    "collapsed": true
   },
   "outputs": [],
   "source": [
    "def get_grid(X, step = 0.05):\n",
    "    x_axis = np.arange(min(X[:,0])-step,max(X[:,0])+2*step,step)\n",
    "    y_axis = np.arange(min(X[:,1])-step,max(X[:,1])+2*step,step)\n",
    "\n",
    "    my_grid = []\n",
    "    for i in x_axis:\n",
    "        for j in y_axis:\n",
    "            my_grid.append([i,j])#,1])\n",
    "    my_grid = np.array(my_grid)\n",
    "    \n",
    "    return x_axis, y_axis, my_grid\n",
    "\n",
    "def plot(X,step):\n",
    "    plt.scatter(X[:,0], X[:,1], edgecolors  = 'black')\n",
    "    plt.xlim((min(X[:,0])-step,max(X[:,0])+step))\n",
    "    plt.ylim((min(X[:,1])-step,max(X[:,1])+step))\n",
    "    pass\n",
    "\n",
    "def Normalize_Pred(pred):    \n",
    "    pred_100 = pred -np.min(pred)\n",
    "    pred_100 = (pred_100 / np.max(pred_100)) * 100\n",
    "    return pred_100\n",
    "\n",
    "def get_delim(pred_100, x_axis, y_axis, eps = 0):\n",
    "    ix_delim = np.where((pred_100  < eps) & (pred_100  > -eps))[0]\n",
    "    x_delim = []\n",
    "    y_delim = []\n",
    "    for i in range(len(ix_delim)):\n",
    "        a, b = np.divmod(ix_delim[i],len(y_axis))\n",
    "        x_delim.append(x_axis[a])\n",
    "        y_delim.append(y_axis[b])\n",
    "    return x_delim, y_delim\n",
    "\n",
    "def plot_pred(X, x_axis, y_axis, pred_100, x_delim, y_delim, step = 0.05):\n",
    "    norm_colors = mpl.colors.Normalize(vmin=0,vmax=100)\n",
    "    X_axis, Y_axis = np.meshgrid(x_axis, y_axis)\n",
    "    C = np.transpose(pred_100.reshape((len(x_axis), len(y_axis))))\n",
    "    plt.pcolor(X_axis, Y_axis, C, norm= norm_colors, cmap = 'YlOrRd')\n",
    "    plt.scatter(x_delim, y_delim, c = 'blue', s = 10)\n",
    "    plot(X,step)\n",
    "    plt.xlim((min(X[:,0])-step,max(X[:,0])+step))\n",
    "    plt.ylim((min(X[:,1])-step,max(X[:,1])+step))\n",
    "    pass\n",
    "\n",
    "def plot_pred_plan(X, alpha, rho, kernel, step = 0.05, eps = 0):\n",
    "    x_axis, y_axis, my_grid = get_grid(X, step)\n",
    "    pred = predict(X, my_grid, alpha, rho, kernel)\n",
    "    x_delim, y_delim = get_delim(pred, x_axis, y_axis, eps)\n",
    "    pred_100 = Normalize_Pred(pred)\n",
    "    #print(\"pred100\",pred_100.shape)\n",
    "    plot_pred(X, x_axis, y_axis, pred_100, x_delim, y_delim, step)\n",
    "    return pred"
   ]
  },
  {
   "cell_type": "markdown",
   "metadata": {
    "collapsed": true
   },
   "source": [
    "## Artifical data"
   ]
  },
  {
   "cell_type": "code",
   "execution_count": 82,
   "metadata": {
    "collapsed": true
   },
   "outputs": [],
   "source": [
    "X = np.random.normal(0,0.1,size=[200,2])\n",
    "X_2class = np.random.normal(1,0.05,size=[20,2])\n",
    "\n",
    "X2 = np.concatenate((X,X_2class),axis=0)"
   ]
  },
  {
   "cell_type": "code",
   "execution_count": 83,
   "metadata": {},
   "outputs": [
    {
     "data": {
      "image/png": "[encoded data removed]",
      "text/plain": [
       "<matplotlib.figure.Figure at 0x117cf7b70>"
      ]
     },
     "metadata": {},
     "output_type": "display_data"
    }
   ],
   "source": [
    "plt.figure(figsize=(15,5))\n",
    "plt.subplot(121)\n",
    "plt.scatter(X[:,0],X[:,1])\n",
    "plt.subplot(122)\n",
    "plt.scatter(X[:,0],X[:,1])\n",
    "plt.scatter(X_2class[:,0],X_2class[:,1],c='orange')\n",
    "plt.show()"
   ]
  },
  {
   "cell_type": "code",
   "execution_count": 16,
   "metadata": {},
   "outputs": [
    {
     "data": {
      "image/png": "[encoded data removed]",
      "text/plain": [
       "<matplotlib.figure.Figure at 0x112a14320>"
      ]
     },
     "metadata": {},
     "output_type": "display_data"
    }
   ],
   "source": [
    "step = 0.01\n",
    "nu = [0.1,0.05]\n",
    "\n",
    "\n",
    "plt.figure(figsize=(20,15))\n",
    "\n",
    "\n",
    "####### RBF ########\n",
    "\n",
    "\"\"\"sigma2=0.5\n",
    "\n",
    "plt.subplot(2,3,1)\n",
    "nu=0.1\n",
    "kernel = ['RBF',sigma2]\n",
    "alpha, rho = fit(X, nu, kernel)\n",
    "plt.title('kernel RBF \\n'+r'$ \\nu =$'+str(nu)+r'  $\\sigma^2 =$'+str(sigma2)+r' $\\rho$ = '+\\\n",
    " str(np.round(rho[0],2)),fontsize=15)\n",
    "x_axis, y_axis, my_grid = get_grid(X, step = step)\n",
    "pred = plot_pred_plan(X, alpha, rho, kernel, step = step)\n",
    "pred_bin = np.sign(pred)\n",
    "pred_100 = Normalize_Pred(pred_bin)\n",
    "x_delim, y_delim = get_delim(pred_100, x_axis, y_axis, eps = 0)\n",
    "plot_pred(X, x_axis, y_axis, pred_100, x_delim, y_delim, step = step)\n",
    "                       \n",
    "\n",
    "plt.subplot(2,3,2)\n",
    "kernel = ['RBF',sigma2]\n",
    "nu=0.1\n",
    "alpha, rho = fit(X2, nu, kernel)\n",
    "plt.title('Kernel RBF \\n'+r'$ \\nu =$'+str(nu)+r'  $\\sigma^2 =$'+str(sigma2)+r' $\\rho$ = '+\\\n",
    " str(np.round(rho[0],2)),fontsize=15)\n",
    "x_axis, y_axis, my_grid = get_grid(X2, step = step)\n",
    "pred = plot_pred_plan(X2, alpha, rho, kernel, step = step)\n",
    "pred_bin = np.sign(pred)\n",
    "pred_100 = Normalize_Pred(pred_bin)\n",
    "x_delim, y_delim = get_delim(pred_100, x_axis, y_axis, eps = 0)\n",
    "plot_pred(X2, x_axis, y_axis, pred_100, x_delim, y_delim, step = step)\n",
    "\n",
    "plt.subplot(2,3,3)\n",
    "nu=0.3\n",
    "kernel = ['RBF',sigma2]\n",
    "alpha, rho = fit(X2, nu, kernel)\n",
    "plt.title('Kernel RBF \\n'+r'$ \\nu =$'+str(nu)+r'  $\\sigma^2 =$'+str(sigma2)+r' $\\rho$ = '+\\\n",
    " str(np.round(rho[0],2)),fontsize=15)\n",
    "x_axis, y_axis, my_grid = get_grid(X2, step = step)\n",
    "pred = plot_pred_plan(X2, alpha, rho, kernel, step = step)\n",
    "pred_bin = np.sign(pred)\n",
    "pred_100 = Normalize_Pred(pred_bin)\n",
    "x_delim, y_delim = get_delim(pred_100, x_axis, y_axis, eps = 0)\n",
    "plot_pred(X2, x_axis, y_axis, pred_100, x_delim, y_delim, step = step)\n",
    "\"\"\"\n",
    "\n",
    "#### POLYNOMIAL  #######\n",
    "d=3\n",
    "c=0.1\n",
    "\n",
    "plt.subplot(2,3,4)\n",
    "nu=0.1\n",
    "kernel = ['Poly',d,c]\n",
    "alpha, rho = fit(X, nu, kernel)\n",
    "plt.title('kernel Polynomial \\n'+r'$ \\nu =$'+str(nu)+' d = '+str(d)+r' $\\rho$ = '+\\\n",
    " str(np.round(rho[0],2)),fontsize=15)\n",
    "x_axis, y_axis, my_grid = get_grid(X, step = step)\n",
    "pred = plot_pred_plan(X, alpha, rho, kernel, step = step)\n",
    "pred_bin = np.sign(pred)\n",
    "pred_100 = Normalize_Pred(pred_bin)\n",
    "x_delim, y_delim = get_delim(pred_100, x_axis, y_axis, eps = 0)\n",
    "plot_pred(X, x_axis, y_axis, pred_100, x_delim, y_delim, step = step)                    \n",
    "\n",
    "plt.subplot(2,3,5)\n",
    "nu=0.05\n",
    "kernel = ['Poly',d,c]\n",
    "alpha, rho = fit(X2, nu, kernel)\n",
    "plt.title('kernel Polynomial \\n'+r'$ \\nu =$'+str(nu)+' d = '+str(d)+r' $\\rho$ = '+\\\n",
    " str(np.round(rho[0],2)),fontsize=15)\n",
    "x_axis, y_axis, my_grid = get_grid(X2, step = step)\n",
    "pred = plot_pred_plan(X2, alpha, rho, kernel, step = step)\n",
    "pred_bin = np.sign(pred)\n",
    "pred_100 = Normalize_Pred(pred_bin)\n",
    "x_delim, y_delim = get_delim(pred_100, x_axis, y_axis, eps = 0)\n",
    "plot_pred(X2, x_axis, y_axis, pred_100, x_delim, y_delim, step = step)\n",
    "\n",
    "plt.subplot(2,3,6)\n",
    "nu=0.5\n",
    "kernel = ['Poly',d,c]\n",
    "alpha, rho = fit(X2, nu, kernel)\n",
    "plt.title('kernel Polynomial \\n'+r'$ \\nu =$'+str(nu)+' d = '+str(d)+r' $\\rho$ = '+\\\n",
    " str(np.round(rho[0],2)),fontsize=15)\n",
    "x_axis, y_axis, my_grid = get_grid(X2, step = step)\n",
    "pred = plot_pred_plan(X2, alpha, rho, kernel, step = step)\n",
    "pred_bin = np.sign(pred)\n",
    "pred_100 = Normalize_Pred(pred_bin)\n",
    "x_delim, y_delim = get_delim(pred_100, x_axis, y_axis, eps = 0)\n",
    "plot_pred(X2, x_axis, y_axis, pred_100, x_delim, y_delim, step = step)\n",
    "\n",
    "#plt.show()\n",
    "plt.savefig('fake_data_plot')"
   ]
  },
  {
   "cell_type": "markdown",
   "metadata": {},
   "source": [
    "### testing K means"
   ]
  },
  {
   "cell_type": "code",
   "execution_count": 84,
   "metadata": {
    "collapsed": true
   },
   "outputs": [],
   "source": [
    "class OCC:\n",
    "    \n",
    "    def __init__(self, X, step = 0.05, eps = 0):\n",
    "        import matplotlib.pyplot as plt\n",
    "        import numpy as np\n",
    "        \n",
    "        self.X = X\n",
    "        self.n = X.shape[0]\n",
    "        self.figsize = (10,5)\n",
    "        \n",
    "        # plot parameters\n",
    "        self.step = step\n",
    "        self.eps = eps\n",
    "        self.norm_colors = mpl.colors.Normalize(vmin=0,vmax=100)\n",
    "        self.set_grid()\n",
    "        \n",
    "        pass\n",
    "    \n",
    "    # Plot functions\n",
    "    \n",
    "    def plot(self):\n",
    "        plt.scatter(self.X[:,0], self.X[:,1], edgecolors  = 'black')\n",
    "        plt.xlim((min(self.X[:,0])-self.step,max(self.X[:,0])+self.step))\n",
    "        plt.ylim((min(self.X[:,1])-self.step,max(self.X[:,1])+self.step))\n",
    "        pass\n",
    "    \n",
    "    def set_grid(self):\n",
    "        self.x_axis = np.arange(min(self.X[:,0])-self.step,max(self.X[:,0])+2*self.step,self.step)\n",
    "        self.y_axis = np.arange(min(self.X[:,1])-self.step,max(self.X[:,1])+2*self.step,self.step)\n",
    "\n",
    "        self.my_grid = []\n",
    "        for i in self.x_axis:\n",
    "            for j in self.y_axis:\n",
    "                self.my_grid.append([i,j])\n",
    "        self.my_grid = np.array(self.my_grid)\n",
    "\n",
    "        pass\n",
    "\n",
    "    def Normalize_Pred(self):    \n",
    "        self.pred_100 = self.pred -np.min(self.pred)\n",
    "        self.pred_100 = (self.pred_100 / np.max(self.pred_100)) * 100\n",
    "        pass\n",
    "\n",
    "    def set_delim(self):\n",
    "        ix_delim = np.where((self.pred  < self.eps) & (self.pred  > -self.eps))[0]\n",
    "        self.x_delim = []\n",
    "        self.y_delim = []\n",
    "        for i in range(len(ix_delim)):\n",
    "            a, b = np.divmod(ix_delim[i],len(self.y_axis))\n",
    "            self.x_delim.append(self.x_axis[a])\n",
    "            self.y_delim.append(self.y_axis[b])\n",
    "        pass\n",
    "\n",
    "    def plot_pred(self, pred):\n",
    "        \n",
    "        X_axis, Y_axis = np.meshgrid(self.x_axis, self.y_axis)\n",
    "        C = np.transpose(pred.reshape((len(self.x_axis), len(self.y_axis))))\n",
    "        plt.pcolor(X_axis, Y_axis, C, norm = self.norm_colors, cmap = 'YlOrRd')\n",
    "        plt.scatter(self.x_delim, self.y_delim, c = 'black', s = 10)\n",
    "        self.plot()\n",
    "        pass\n",
    "\n",
    "    def plot_pred_plan(self):\n",
    "        self.pred = self.predict(self.my_grid)\n",
    "        self.pred_bin = np.sign(self.pred)\n",
    "        self.set_delim()\n",
    "        self.Normalize_Pred()\n",
    "        \n",
    "        plt.figure(figsize=self.figsize)\n",
    "        plt.subplot(1,2,1)\n",
    "        self.plot_pred(self.pred_100)\n",
    "        plt.subplot(1,2,2)\n",
    "        self.plot_pred((self.pred_bin+1)*100)\n",
    "        pass\n",
    "    \n",
    "    \n",
    "    # Skeletons for fit and predict\n",
    "    def fit(self):\n",
    "        pass\n",
    "    \n",
    "    def predict(self):\n",
    "        pass\n",
    "    \n",
    "    # Others methods\n",
    "    def RBF_Kernel(self, X, sigma2, Y = None):\n",
    "        \" Compute the RBF kernel matrix of X\"\n",
    "        from sklearn.metrics.pairwise import euclidean_distances\n",
    "\n",
    "        if type(Y)==type(None):\n",
    "            Y = X\n",
    "\n",
    "        K = euclidean_distances(X,Y, squared=True)\n",
    "        K *= -1./sigma2\n",
    "        K = np.exp(K)\n",
    "        return K"
   ]
  },
  {
   "cell_type": "code",
   "execution_count": 85,
   "metadata": {
    "collapsed": true
   },
   "outputs": [],
   "source": [
    "class OkMeans(OCC):\n",
    "    \" Visual Object Recognition through One-Class Learning \\\n",
    "      QingHua Wang, Luís Seabra Lopes, and David M. J. Tax \"\n",
    "    \n",
    "    def fit(self, thresh, k, kernel = False):\n",
    "        from sklearn.cluster import KMeans\n",
    "        \n",
    "        self.thresh = thresh\n",
    "        self.k = k\n",
    "        self.kernel = kernel\n",
    "        if kernel:\n",
    "            K = self.RBF_Kernel(self.X, 1)            \n",
    "        else:\n",
    "            K = self.X\n",
    "\n",
    "        kmeans = KMeans(n_clusters=k).fit(K)\n",
    "        self.centers = kmeans.cluster_centers_\n",
    "        \n",
    "        pass\n",
    "    \n",
    "    def predict(self, newData):\n",
    "        from sklearn.metrics.pairwise import euclidean_distances\n",
    "        if self.kernel:\n",
    "            newData = np.transpose(self.RBF_Kernel(self.X, 1, newData))\n",
    "        D = euclidean_distances(newData, self.centers, squared=True)\n",
    "        D = np.min(D, axis = 1)\n",
    "        pred = -D + self.thresh\n",
    "        return pred"
   ]
  },
  {
   "cell_type": "code",
   "execution_count": 119,
   "metadata": {},
   "outputs": [
    {
     "data": {
      "image/png": "[encoded data removed]",
      "text/plain": [
       "<matplotlib.figure.Figure at 0x11da13d68>"
      ]
     },
     "metadata": {},
     "output_type": "display_data"
    }
   ],
   "source": [
    "kmeans = OkMeans(X2)\n",
    "\n",
    "kmeans.fit(0.3,k=1)\n",
    "\n",
    "pred = kmeans.predict(X2)\n",
    "\n",
    "kmeans.plot_pred_plan()"
   ]
  },
  {
   "cell_type": "markdown",
   "metadata": {},
   "source": [
    "## Application to real data"
   ]
  },
  {
   "cell_type": "markdown",
   "metadata": {},
   "source": [
    "### Thyroid data"
   ]
  },
  {
   "cell_type": "markdown",
   "metadata": {},
   "source": [
    "http://odds.cs.stonybrook.edu/thyroid-disease-dataset/"
   ]
  },
  {
   "cell_type": "code",
   "execution_count": 93,
   "metadata": {},
   "outputs": [
    {
     "name": "stdout",
     "output_type": "stream",
     "text": [
      "share of outliers on test set: 0.022968197879858657\n"
     ]
    }
   ],
   "source": [
    "from scipy.io import loadmat\n",
    "x = loadmat('thyroid.mat')\n",
    "X=x['X']\n",
    "y=x['y'].flatten()\n",
    "y[y==1]=-1\n",
    "y[y==0]=1\n",
    "\n",
    "#normalize the data\n",
    "from sklearn.preprocessing import StandardScaler\n",
    "X = StandardScaler().fit_transform(X)\n",
    "\n",
    "#split the data into train/test\n",
    "ind = np.random.choice(np.arange(0,len(X)),int(len(X)*0.7),replace=False)\n",
    "ind_test = np.setdiff1d(np.arange(0,len(X)),ind)\n",
    "#separate the data in train and test\n",
    "X_test,y_test=X[ind_test,:],y[ind_test]\n",
    "X_train,y_train=X[ind,:],y[ind]\n",
    "\n",
    "print(\"share of outliers on test set:\",len(y_test[y_test==-1])/len(y_test))"
   ]
  },
  {
   "cell_type": "markdown",
   "metadata": {},
   "source": [
    "### OSVM"
   ]
  },
  {
   "cell_type": "code",
   "execution_count": 87,
   "metadata": {
    "collapsed": true
   },
   "outputs": [],
   "source": [
    "def cross_val_OSVM(list_sigma2,list_nu,X_train=X_train,X_test=X_test,y_train=y_train,y_test=y_test):\n",
    "    list_param = []\n",
    "    for sigma in list_sigma2:\n",
    "        for nu in list_nu:\n",
    "            list_param.append((sigma,nu))\n",
    "    false_pos = []\n",
    "    for sigma2_val,nu_val in list_param:\n",
    "        kernel = ['RBF',sigma2_val]\n",
    "        alpha, rho = fit(X_train, nu_val, kernel)\n",
    "        y_pred = np.sign(predict(X_train, X_test, alpha, rho, kernel)).flatten()\n",
    "        conf = confusion_matrix(y_test,y_pred)\n",
    "        #minimize false negatives ?\n",
    "        print(\"sigma2: \",sigma2_val,\"nu: \",nu_val,\"false pos\",np.round(conf[1][0]/np.sum(conf[0][0]+conf[1][0]),2) )\n",
    "        false_pos.append( np.round(conf[0][1]/np.sum(conf[0][1]+conf[0][0]),2) )\n",
    "    i_best = np.argmin(false_pos)\n",
    "    best_param = list_param[i_best]\n",
    "    sigma2_best, nu_best = [ best_param[0], best_param[1] ]\n",
    "    return( sigma2_best, nu_best )"
   ]
  },
  {
   "cell_type": "raw",
   "metadata": {},
   "source": [
    "list_sigma2 = [10,25]\n",
    "list_nu = [0.01,0.02]\n",
    "sigma2_best, nu_best = cross_val_OSVM(list_sigma2,list_nu)"
   ]
  },
  {
   "cell_type": "markdown",
   "metadata": {},
   "source": [
    "#### RBF $\\nu$ = 0.2"
   ]
  },
  {
   "cell_type": "code",
   "execution_count": 104,
   "metadata": {
    "collapsed": true
   },
   "outputs": [],
   "source": [
    "nu_best = 0.1\n",
    "sigma2_best = 10\n",
    "kernel = ['RBF',sigma2_best]\n",
    "#kernel = ['Poly',3,1]\n",
    "alpha, rho = fit(X_train, nu_best, kernel)\n",
    "y_pred_base = predict(X_train, X_test, alpha, rho, kernel).flatten()\n",
    "y_pred = np.sign(y_pred_base)\n",
    "y_pred_train_base = predict(X_train, X_train, alpha, rho, kernel).flatten()"
   ]
  },
  {
   "cell_type": "code",
   "execution_count": 105,
   "metadata": {},
   "outputs": [
    {
     "name": "stdout",
     "output_type": "stream",
     "text": [
      "[[  19    7]\n",
      " [  89 1017]]\n",
      "             precision    recall  f1-score   support\n",
      "\n",
      "       -1.0       0.18      0.73      0.28        26\n",
      "        1.0       0.99      0.92      0.95      1106\n",
      "\n",
      "avg / total       0.97      0.92      0.94      1132\n",
      "\n",
      "false positive rate: 0.269\n",
      "true pos rate: 0.92\n"
     ]
    }
   ],
   "source": [
    "from sklearn.metrics import confusion_matrix, classification_report\n",
    "conf = confusion_matrix(y_test,y_pred)\n",
    "print(conf)\n",
    "print(classification_report(y_test,y_pred))\n",
    "print(\"false positive rate:\",np.round(conf[0][1]/(conf[0][1]+conf[0][0]),3))\n",
    "print(\"true pos rate:\",np.round(conf[1][1]/(conf[1][0]+conf[1][1]),3))"
   ]
  },
  {
   "cell_type": "markdown",
   "metadata": {},
   "source": [
    "#### RBF $\\nu$ = 0.5"
   ]
  },
  {
   "cell_type": "code",
   "execution_count": 102,
   "metadata": {
    "collapsed": true
   },
   "outputs": [],
   "source": [
    "nu_best = 0.5\n",
    "sigma2_best = 10\n",
    "kernel = ['RBF',sigma2_best]\n",
    "alpha_2, rho_2 = fit(X_train, nu_best, kernel)\n",
    "y_pred_base_2 = predict(X_train, X_test, alpha_2, rho_2, kernel).flatten()\n",
    "y_pred_2 = np.sign(y_pred_base_2)\n",
    "y_pred_train_base2 = predict(X_train, X_train, alpha_2, rho_2, kernel).flatten()"
   ]
  },
  {
   "cell_type": "code",
   "execution_count": 103,
   "metadata": {
    "scrolled": false
   },
   "outputs": [
    {
     "name": "stdout",
     "output_type": "stream",
     "text": [
      "[[ 26   0]\n",
      " [251 855]]\n",
      "             precision    recall  f1-score   support\n",
      "\n",
      "       -1.0       0.09      1.00      0.17        26\n",
      "        1.0       1.00      0.77      0.87      1106\n",
      "\n",
      "avg / total       0.98      0.78      0.86      1132\n",
      "\n",
      "false positive rate: 0.0\n",
      "true pos rate: 0.773\n"
     ]
    }
   ],
   "source": [
    "from sklearn.metrics import confusion_matrix, classification_report\n",
    "conf = confusion_matrix(y_test,y_pred_2)\n",
    "print(conf)\n",
    "print(classification_report(y_test,y_pred_2))\n",
    "print(\"false positive rate:\",np.round(conf[0][1]/(conf[0][1]+conf[0][0]),3))\n",
    "print(\"true pos rate:\",np.round(conf[1][1]/(conf[1][0]+conf[1][1]),3))"
   ]
  },
  {
   "cell_type": "markdown",
   "metadata": {},
   "source": [
    "#### Poly $\\nu$ = 0.5"
   ]
  },
  {
   "cell_type": "code",
   "execution_count": 62,
   "metadata": {
    "collapsed": true
   },
   "outputs": [],
   "source": [
    "nu_best = 0.5\n",
    "sigma2_best = 10\n",
    "kernel = ['Poly',2,1]\n",
    "alpha_2, rho_2 = fit(X_train, nu_best, kernel)\n",
    "y_pred_base_2 = predict(X_train, X_test, alpha_2, rho_2, kernel).flatten()\n",
    "y_pred_2 = np.sign(y_pred_base_2)\n",
    "y_pred_train_base2 = predict(X_train, X_train, alpha_2, rho_2, kernel).flatten()"
   ]
  },
  {
   "cell_type": "code",
   "execution_count": 110,
   "metadata": {
    "scrolled": false
   },
   "outputs": [
    {
     "name": "stdout",
     "output_type": "stream",
     "text": [
      "[[ 26   0]\n",
      " [251 855]]\n",
      "             precision    recall  f1-score   support\n",
      "\n",
      "       -1.0       0.09      1.00      0.17        26\n",
      "        1.0       1.00      0.77      0.87      1106\n",
      "\n",
      "avg / total       0.98      0.78      0.86      1132\n",
      "\n",
      "false positive rate: 0.0\n",
      "true pos rate: 0.773\n"
     ]
    }
   ],
   "source": [
    "from sklearn.metrics import confusion_matrix, classification_report\n",
    "conf = confusion_matrix(y_test,y_pred_2)\n",
    "print(conf)\n",
    "print(classification_report(y_test,y_pred_2))\n",
    "print(\"false positive rate:\",np.round(conf[0][1]/(conf[0][1]+conf[0][0]),3))\n",
    "print(\"true pos rate:\",np.round(conf[1][1]/(conf[1][0]+conf[1][1]),3))"
   ]
  },
  {
   "cell_type": "markdown",
   "metadata": {},
   "source": [
    "### Kmeans"
   ]
  },
  {
   "cell_type": "code",
   "execution_count": 106,
   "metadata": {
    "collapsed": true
   },
   "outputs": [],
   "source": [
    "#cross validation\n",
    "def cross_val_kmeans(X_train,X_test,y_test):\n",
    "    thres_list = np.arange(25,100,1)\n",
    "    false_pos = []\n",
    "    for thres in thres_list:\n",
    "        kmeans = OkMeans(X_train)\n",
    "        kmeans.fit(thres,k=1)\n",
    "        y_pred_base = kmeans.predict(X_test)\n",
    "        y_pred = np.sign(y_pred_base)\n",
    "        conf = confusion_matrix(y_test,y_pred)\n",
    "        false_pos.append( np.round(conf[0][1]/(conf[0][0]+conf[0][1]),2) )\n",
    "    i_best = np.argmin(false_pos)\n",
    "    return thres_list[i_best]"
   ]
  },
  {
   "cell_type": "code",
   "execution_count": 107,
   "metadata": {
    "collapsed": true
   },
   "outputs": [],
   "source": [
    "thres_val = cross_val_kmeans(X_train,X_test,y_test)"
   ]
  },
  {
   "cell_type": "code",
   "execution_count": 108,
   "metadata": {
    "collapsed": true
   },
   "outputs": [],
   "source": [
    "kmeans = OkMeans(X_train)\n",
    "kmeans.fit(thres_val,k=1)\n",
    "y_pred_base_km = kmeans.predict(X_test)\n",
    "y_pred_km = np.sign(y_pred_base_km)"
   ]
  },
  {
   "cell_type": "code",
   "execution_count": 109,
   "metadata": {},
   "outputs": [
    {
     "name": "stdout",
     "output_type": "stream",
     "text": [
      "[[   8   18]\n",
      " [  31 1075]]\n",
      "             precision    recall  f1-score   support\n",
      "\n",
      "       -1.0       0.21      0.31      0.25        26\n",
      "        1.0       0.98      0.97      0.98      1106\n",
      "\n",
      "avg / total       0.97      0.96      0.96      1132\n",
      "\n",
      "false positive rate: 0.6923\n",
      "true pos rate: 0.972\n"
     ]
    }
   ],
   "source": [
    "from sklearn.metrics import confusion_matrix, classification_report\n",
    "conf = confusion_matrix(y_test,y_pred_km)\n",
    "print(conf)\n",
    "print(classification_report(y_test,y_pred_km))\n",
    "print(\"false positive rate:\",np.round(conf[0,1]/np.sum(conf[0][0]+conf[0][1]),4))\n",
    "print(\"true pos rate:\",np.round(conf[1][1]/np.sum(conf[1][0]+conf[1][1]),4))"
   ]
  },
  {
   "cell_type": "markdown",
   "metadata": {},
   "source": [
    "### Densité des valeurs de sortie"
   ]
  },
  {
   "cell_type": "code",
   "execution_count": 114,
   "metadata": {},
   "outputs": [
    {
     "data": {
      "image/png": "[encoded data removed]",
      "text/plain": [
       "<matplotlib.figure.Figure at 0x1108bf550>"
      ]
     },
     "metadata": {},
     "output_type": "display_data"
    }
   ],
   "source": [
    "plt.figure(figsize=(20,7))\n",
    "\n",
    "plt.subplot(131)\n",
    "plt.hist(y_pred_base,bins=40,fill=True,edgecolor='white',density=True)\n",
    "plt.title(\"Densité des valeurs de sortie \"+r'$\\nu$='+str(0.1) +'\\n'+ r' $\\rho$='+str(np.round(rho[0],2))+\"\\n\"+\\\n",
    "         \"SV: \"+str(np.round(len(alpha[alpha>10**(-6)])/len(alpha)*100)) + \"%, \"+\n",
    "          \" OL: \"+str(np.round(len(y_pred[y_pred==-1])/len(y_pred)*100))+\"%\",size=14)\n",
    "plt.xlim(-0.1,0.15)\n",
    "\n",
    "plt.subplot(132)\n",
    "plt.hist(y_pred_base_2,bins=60,fill=True,edgecolor='white',density=True)\n",
    "plt.title(\"Densité des valeurs de sortie \"+r'$\\nu$='+str(0.5) +'\\n'+ r' $\\rho$='+str(np.round(rho_2[0],2))+\"\\n\"+\\\n",
    "         \"SV: \"+str(np.round(len(alpha_2[alpha_2>10**(-6)])/len(alpha_2)*100)) + \"%, \"+\n",
    "          \" OL: \"+str(np.round(len(y_pred_2[y_pred_2==-1])/len(y_pred_2)*100))+\"%\",size=14)\n",
    "plt.xlim(-0.1,0.3)\n",
    "\n",
    "plt.subplot(133)\n",
    "plt.hist(y_pred_base_km,bins=400,edgecolor='white')\n",
    "plt.xlim(-1,30)\n",
    "plt.title(\"Densité des valeurs de sortie Kmeans \\n \\n\" ,size=14)\n",
    "plt.savefig('densite_OSVM_KMeans')\n",
    "plt.show()"
   ]
  },
  {
   "cell_type": "markdown",
   "metadata": {},
   "source": [
    "### Letter recognition dataset"
   ]
  },
  {
   "cell_type": "markdown",
   "metadata": {},
   "source": [
    "data source: http://odds.cs.stonybrook.edu/letter-recognition-dataset/"
   ]
  },
  {
   "cell_type": "code",
   "execution_count": 83,
   "metadata": {
    "collapsed": true
   },
   "outputs": [],
   "source": [
    "from scipy.io import loadmat\n",
    "x = loadmat('letter.mat')\n",
    "X=x['X']\n",
    "y=x['y'].flatten()\n",
    "y=y.astype(float)\n",
    "X=X.astype(int)\n",
    "y[y==1]=-1\n",
    "y[y==0]=1\n",
    "#split the data into train/test\n",
    "ind = np.random.choice(np.arange(0,len(X)),int(len(X)*0.7),replace=False)\n",
    "ind_test = np.setdiff1d(np.arange(0,len(X)),ind)\n",
    "#separate the data in train and test\n",
    "X_test,y_test=X[ind_test,:],y[ind_test]\n",
    "X_train,y_train=X[ind,:],y[ind]"
   ]
  },
  {
   "cell_type": "markdown",
   "metadata": {},
   "source": [
    "#### OSVM"
   ]
  },
  {
   "cell_type": "code",
   "execution_count": 84,
   "metadata": {
    "collapsed": true
   },
   "outputs": [],
   "source": [
    "nu=0.05\n",
    "sigma2=0.5*256\n",
    "kernel = ['RBF',sigma2]\n",
    "alpha, rho = fit(X_train, nu, kernel)\n",
    "y_pred = np.sign(predict(X_train, X_test, alpha, rho, kernel)).flatten()"
   ]
  },
  {
   "cell_type": "code",
   "execution_count": 85,
   "metadata": {
    "scrolled": true
   },
   "outputs": [
    {
     "name": "stdout",
     "output_type": "stream",
     "text": [
      "[[ 11  15]\n",
      " [ 50 404]]\n",
      "             precision    recall  f1-score   support\n",
      "\n",
      "       -1.0       0.18      0.42      0.25        26\n",
      "        1.0       0.96      0.89      0.93       454\n",
      "\n",
      "avg / total       0.92      0.86      0.89       480\n",
      "\n",
      "false positive rate: 0.82\n"
     ]
    }
   ],
   "source": [
    "from sklearn.metrics import confusion_matrix, classification_report\n",
    "conf=confusion_matrix(y_test,y_pred)\n",
    "print(conf)\n",
    "print(classification_report(y_test,y_pred))\n",
    "print(\"false positive rate:\",np.round(conf[1,0]/np.sum(conf[0][0]+conf[1][0]),2))"
   ]
  },
  {
   "cell_type": "code",
   "execution_count": 86,
   "metadata": {
    "collapsed": true
   },
   "outputs": [],
   "source": [
    "nu_list = list(np.arange(0.05,0.15,0.01))+[0.30,0.40,0.50]\n",
    "nu_list = [np.round(n,2) for n in nu_list]\n",
    "OL_list, SV_list = OL_SV(nu_list)"
   ]
  },
  {
   "cell_type": "code",
   "execution_count": 87,
   "metadata": {},
   "outputs": [
    {
     "data": {
      "image/png": "[encoded data removed]",
      "text/plain": [
       "<matplotlib.figure.Figure at 0x11aced780>"
      ]
     },
     "metadata": {},
     "output_type": "display_data"
    }
   ],
   "source": [
    "fig = plt.figure(figsize=(8,10))\n",
    "table = plt.table(cellText=data,colLabels=[r'$\\nu$','Fraction OLs (%)','Fraction SVs (%)'],loc='top')\n",
    "plt.axis('off')\n",
    "plt.grid('off')"
   ]
  },
  {
   "cell_type": "code",
   "execution_count": 43,
   "metadata": {
    "collapsed": true
   },
   "outputs": [],
   "source": [
    "from sklearn.metrics import f1_score\n",
    "\n",
    "def cross_val(list_sigma2,list_nu,X_train,X_test):\n",
    "    t=0\n",
    "    list_score = []\n",
    "    for nu_val in list_nu:\n",
    "        for sigma2_val in list_sigma2:\n",
    "            kernel = ['RBF',sigma2_val]\n",
    "            alpha, rho = fit(X_train, nu_val, kernel)\n",
    "            y_pred = np.sign(predict(X_train, X_test, alpha, rho, kernel)).flatten()\n",
    "            #minimize false negatives ?\n",
    "            list_score.append([nu_val,sigma2_val,f1_score(y_test,y_pred)] )\n",
    "            t=t+1\n",
    "        print(100*t/(len(list_nu)*len(list_sigma2)))\n",
    "    return(list_score)\n",
    "\n",
    "def best_score(list_score):\n",
    "    scores = [n[2] for n in list_score]\n",
    "    index = np.argmax(scores)\n",
    "    return(list_score[index][0:2])\n"
   ]
  },
  {
   "cell_type": "code",
   "execution_count": 44,
   "metadata": {
    "scrolled": true
   },
   "outputs": [
    {
     "ename": "KeyboardInterrupt",
     "evalue": "",
     "output_type": "error",
     "traceback": [
      "\u001b[0;31m---------------------------------------------------------------------------\u001b[0m",
      "\u001b[0;31mKeyboardInterrupt\u001b[0m                         Traceback (most recent call last)",
      "\u001b[0;32m<ipython-input-44-790696969c95>\u001b[0m in \u001b[0;36m<module>\u001b[0;34m()\u001b[0m\n\u001b[1;32m      3\u001b[0m \u001b[0mlist_sigma2\u001b[0m\u001b[0;34m=\u001b[0m\u001b[0mnp\u001b[0m\u001b[0;34m.\u001b[0m\u001b[0marange\u001b[0m\u001b[0;34m(\u001b[0m\u001b[0;36m30\u001b[0m\u001b[0;34m,\u001b[0m\u001b[0;36m100\u001b[0m\u001b[0;34m,\u001b[0m\u001b[0;36m10\u001b[0m\u001b[0;34m)\u001b[0m\u001b[0;34m\u001b[0m\u001b[0m\n\u001b[1;32m      4\u001b[0m \u001b[0;34m\u001b[0m\u001b[0m\n\u001b[0;32m----> 5\u001b[0;31m \u001b[0mlist_score\u001b[0m \u001b[0;34m=\u001b[0m \u001b[0mcross_val\u001b[0m\u001b[0;34m(\u001b[0m\u001b[0mlist_nu\u001b[0m\u001b[0;34m,\u001b[0m\u001b[0mlist_sigma2\u001b[0m\u001b[0;34m,\u001b[0m\u001b[0mX_train\u001b[0m\u001b[0;34m,\u001b[0m\u001b[0mX_test\u001b[0m\u001b[0;34m)\u001b[0m\u001b[0;34m\u001b[0m\u001b[0m\n\u001b[0m\u001b[1;32m      6\u001b[0m \u001b[0mnu_best\u001b[0m\u001b[0;34m,\u001b[0m \u001b[0msigma2_best\u001b[0m \u001b[0;34m=\u001b[0m \u001b[0mbest_score\u001b[0m\u001b[0;34m(\u001b[0m\u001b[0mlist_score\u001b[0m\u001b[0;34m)\u001b[0m\u001b[0;34m\u001b[0m\u001b[0m\n\u001b[1;32m      7\u001b[0m \u001b[0;34m\u001b[0m\u001b[0m\n",
      "\u001b[0;32m<ipython-input-43-a3de677bfe3f>\u001b[0m in \u001b[0;36mcross_val\u001b[0;34m(list_sigma2, list_nu, X_train, X_test)\u001b[0m\n\u001b[1;32m      7\u001b[0m         \u001b[0;32mfor\u001b[0m \u001b[0msigma2_val\u001b[0m \u001b[0;32min\u001b[0m \u001b[0mlist_sigma2\u001b[0m\u001b[0;34m:\u001b[0m\u001b[0;34m\u001b[0m\u001b[0m\n\u001b[1;32m      8\u001b[0m             \u001b[0mkernel\u001b[0m \u001b[0;34m=\u001b[0m \u001b[0;34m[\u001b[0m\u001b[0;34m'RBF'\u001b[0m\u001b[0;34m,\u001b[0m\u001b[0msigma2_val\u001b[0m\u001b[0;34m]\u001b[0m\u001b[0;34m\u001b[0m\u001b[0m\n\u001b[0;32m----> 9\u001b[0;31m             \u001b[0malpha\u001b[0m\u001b[0;34m,\u001b[0m \u001b[0mrho\u001b[0m \u001b[0;34m=\u001b[0m \u001b[0mfit\u001b[0m\u001b[0;34m(\u001b[0m\u001b[0mX_train\u001b[0m\u001b[0;34m,\u001b[0m \u001b[0mnu_val\u001b[0m\u001b[0;34m,\u001b[0m \u001b[0mkernel\u001b[0m\u001b[0;34m)\u001b[0m\u001b[0;34m\u001b[0m\u001b[0m\n\u001b[0m\u001b[1;32m     10\u001b[0m             \u001b[0my_pred\u001b[0m \u001b[0;34m=\u001b[0m \u001b[0mnp\u001b[0m\u001b[0;34m.\u001b[0m\u001b[0msign\u001b[0m\u001b[0;34m(\u001b[0m\u001b[0mpredict\u001b[0m\u001b[0;34m(\u001b[0m\u001b[0mX_train\u001b[0m\u001b[0;34m,\u001b[0m \u001b[0mX_test\u001b[0m\u001b[0;34m,\u001b[0m \u001b[0malpha\u001b[0m\u001b[0;34m,\u001b[0m \u001b[0mrho\u001b[0m\u001b[0;34m,\u001b[0m \u001b[0mkernel\u001b[0m\u001b[0;34m)\u001b[0m\u001b[0;34m)\u001b[0m\u001b[0;34m.\u001b[0m\u001b[0mflatten\u001b[0m\u001b[0;34m(\u001b[0m\u001b[0;34m)\u001b[0m\u001b[0;34m\u001b[0m\u001b[0m\n\u001b[1;32m     11\u001b[0m             \u001b[0;31m#minimize false negatives ?\u001b[0m\u001b[0;34m\u001b[0m\u001b[0;34m\u001b[0m\u001b[0m\n",
      "\u001b[0;32m<ipython-input-7-6259e1f5f3c4>\u001b[0m in \u001b[0;36mfit\u001b[0;34m(X, nu, kernel)\u001b[0m\n\u001b[1;32m     17\u001b[0m     \u001b[0mb\u001b[0m \u001b[0;34m=\u001b[0m \u001b[0mmatrix\u001b[0m\u001b[0;34m(\u001b[0m\u001b[0;36m1\u001b[0m\u001b[0;34m,\u001b[0m \u001b[0mtc\u001b[0m \u001b[0;34m=\u001b[0m \u001b[0;34m'd'\u001b[0m\u001b[0;34m)\u001b[0m\u001b[0;34m\u001b[0m\u001b[0m\n\u001b[1;32m     18\u001b[0m \u001b[0;34m\u001b[0m\u001b[0m\n\u001b[0;32m---> 19\u001b[0;31m     \u001b[0msol\u001b[0m \u001b[0;34m=\u001b[0m \u001b[0msolvers\u001b[0m\u001b[0;34m.\u001b[0m\u001b[0mqp\u001b[0m\u001b[0;34m(\u001b[0m\u001b[0mP\u001b[0m\u001b[0;34m,\u001b[0m\u001b[0mq\u001b[0m\u001b[0;34m,\u001b[0m\u001b[0mG\u001b[0m\u001b[0;34m,\u001b[0m\u001b[0mh\u001b[0m\u001b[0;34m,\u001b[0m\u001b[0mA\u001b[0m\u001b[0;34m,\u001b[0m\u001b[0mb\u001b[0m\u001b[0;34m)\u001b[0m\u001b[0;34m\u001b[0m\u001b[0m\n\u001b[0m\u001b[1;32m     20\u001b[0m     \u001b[0malpha\u001b[0m \u001b[0;34m=\u001b[0m \u001b[0mnp\u001b[0m\u001b[0;34m.\u001b[0m\u001b[0marray\u001b[0m\u001b[0;34m(\u001b[0m\u001b[0msol\u001b[0m\u001b[0;34m[\u001b[0m\u001b[0;34m'x'\u001b[0m\u001b[0;34m]\u001b[0m\u001b[0;34m)\u001b[0m\u001b[0;34m\u001b[0m\u001b[0m\n\u001b[1;32m     21\u001b[0m     \u001b[0mix_in\u001b[0m \u001b[0;34m=\u001b[0m \u001b[0mnp\u001b[0m\u001b[0;34m.\u001b[0m\u001b[0mwhere\u001b[0m\u001b[0;34m(\u001b[0m\u001b[0;34m(\u001b[0m\u001b[0malpha\u001b[0m \u001b[0;34m>\u001b[0m \u001b[0;36m1e-5\u001b[0m\u001b[0;34m)\u001b[0m \u001b[0;34m&\u001b[0m \u001b[0;34m(\u001b[0m\u001b[0malpha\u001b[0m \u001b[0;34m<\u001b[0m \u001b[0;36m1.\u001b[0m\u001b[0;34m/\u001b[0m\u001b[0;34m(\u001b[0m\u001b[0mn\u001b[0m\u001b[0;34m*\u001b[0m\u001b[0mnu\u001b[0m\u001b[0;34m)\u001b[0m\u001b[0;34m)\u001b[0m\u001b[0;34m)\u001b[0m\u001b[0;34m[\u001b[0m\u001b[0;36m0\u001b[0m\u001b[0;34m]\u001b[0m\u001b[0;34m[\u001b[0m\u001b[0;36m0\u001b[0m\u001b[0;34m]\u001b[0m\u001b[0;34m\u001b[0m\u001b[0m\n",
      "\u001b[0;32m~/anaconda3/lib/python3.6/site-packages/cvxopt/coneprog.py\u001b[0m in \u001b[0;36mqp\u001b[0;34m(P, q, G, h, A, b, solver, kktsolver, initvals, **kwargs)\u001b[0m\n\u001b[1;32m   4485\u001b[0m             'residual as dual infeasibility certificate': dinfres}\n\u001b[1;32m   4486\u001b[0m \u001b[0;34m\u001b[0m\u001b[0m\n\u001b[0;32m-> 4487\u001b[0;31m     \u001b[0;32mreturn\u001b[0m \u001b[0mconeqp\u001b[0m\u001b[0;34m(\u001b[0m\u001b[0mP\u001b[0m\u001b[0;34m,\u001b[0m \u001b[0mq\u001b[0m\u001b[0;34m,\u001b[0m \u001b[0mG\u001b[0m\u001b[0;34m,\u001b[0m \u001b[0mh\u001b[0m\u001b[0;34m,\u001b[0m \u001b[0;32mNone\u001b[0m\u001b[0;34m,\u001b[0m \u001b[0mA\u001b[0m\u001b[0;34m,\u001b[0m  \u001b[0mb\u001b[0m\u001b[0;34m,\u001b[0m \u001b[0minitvals\u001b[0m\u001b[0;34m,\u001b[0m \u001b[0mkktsolver\u001b[0m \u001b[0;34m=\u001b[0m \u001b[0mkktsolver\u001b[0m\u001b[0;34m,\u001b[0m \u001b[0moptions\u001b[0m \u001b[0;34m=\u001b[0m \u001b[0moptions\u001b[0m\u001b[0;34m)\u001b[0m\u001b[0;34m\u001b[0m\u001b[0m\n\u001b[0m",
      "\u001b[0;32m~/anaconda3/lib/python3.6/site-packages/cvxopt/coneprog.py\u001b[0m in \u001b[0;36mconeqp\u001b[0;34m(P, q, G, h, dims, A, b, initvals, kktsolver, xnewcopy, xdot, xaxpy, xscal, ynewcopy, ydot, yaxpy, yscal, **kwargs)\u001b[0m\n\u001b[1;32m   2254\u001b[0m         \u001b[0;31m# On exit, they contain ux, uy, uz.\u001b[0m\u001b[0;34m\u001b[0m\u001b[0;34m\u001b[0m\u001b[0m\n\u001b[1;32m   2255\u001b[0m \u001b[0;34m\u001b[0m\u001b[0m\n\u001b[0;32m-> 2256\u001b[0;31m         \u001b[0;32mtry\u001b[0m\u001b[0;34m:\u001b[0m \u001b[0mf3\u001b[0m \u001b[0;34m=\u001b[0m \u001b[0mkktsolver\u001b[0m\u001b[0;34m(\u001b[0m\u001b[0mW\u001b[0m\u001b[0;34m)\u001b[0m\u001b[0;34m\u001b[0m\u001b[0m\n\u001b[0m\u001b[1;32m   2257\u001b[0m         \u001b[0;32mexcept\u001b[0m \u001b[0mArithmeticError\u001b[0m\u001b[0;34m:\u001b[0m\u001b[0;34m\u001b[0m\u001b[0m\n\u001b[1;32m   2258\u001b[0m             \u001b[0;32mif\u001b[0m \u001b[0miters\u001b[0m \u001b[0;34m==\u001b[0m \u001b[0;36m0\u001b[0m\u001b[0;34m:\u001b[0m\u001b[0;34m\u001b[0m\u001b[0m\n",
      "\u001b[0;32m~/anaconda3/lib/python3.6/site-packages/cvxopt/coneprog.py\u001b[0m in \u001b[0;36mkktsolver\u001b[0;34m(W)\u001b[0m\n\u001b[1;32m   1979\u001b[0m              \u001b[0mfactor\u001b[0m \u001b[0;34m=\u001b[0m \u001b[0mmisc\u001b[0m\u001b[0;34m.\u001b[0m\u001b[0mkkt_chol2\u001b[0m\u001b[0;34m(\u001b[0m\u001b[0mG\u001b[0m\u001b[0;34m,\u001b[0m \u001b[0mdims\u001b[0m\u001b[0;34m,\u001b[0m \u001b[0mA\u001b[0m\u001b[0;34m)\u001b[0m\u001b[0;34m\u001b[0m\u001b[0m\n\u001b[1;32m   1980\u001b[0m          \u001b[0;32mdef\u001b[0m \u001b[0mkktsolver\u001b[0m\u001b[0;34m(\u001b[0m\u001b[0mW\u001b[0m\u001b[0;34m)\u001b[0m\u001b[0;34m:\u001b[0m\u001b[0;34m\u001b[0m\u001b[0m\n\u001b[0;32m-> 1981\u001b[0;31m              \u001b[0;32mreturn\u001b[0m \u001b[0mfactor\u001b[0m\u001b[0;34m(\u001b[0m\u001b[0mW\u001b[0m\u001b[0;34m,\u001b[0m \u001b[0mP\u001b[0m\u001b[0;34m)\u001b[0m\u001b[0;34m\u001b[0m\u001b[0m\n\u001b[0m\u001b[1;32m   1982\u001b[0m \u001b[0;34m\u001b[0m\u001b[0m\n\u001b[1;32m   1983\u001b[0m     \u001b[0;32mif\u001b[0m \u001b[0mxnewcopy\u001b[0m \u001b[0;32mis\u001b[0m \u001b[0;32mNone\u001b[0m\u001b[0;34m:\u001b[0m \u001b[0mxnewcopy\u001b[0m \u001b[0;34m=\u001b[0m \u001b[0mmatrix\u001b[0m\u001b[0;34m\u001b[0m\u001b[0m\n",
      "\u001b[0;32m~/anaconda3/lib/python3.6/site-packages/cvxopt/misc.py\u001b[0m in \u001b[0;36mfactor\u001b[0;34m(W, H, Df)\u001b[0m\n\u001b[1;32m   1449\u001b[0m \u001b[0;34m\u001b[0m\u001b[0m\n\u001b[1;32m   1450\u001b[0m         \u001b[0;32melse\u001b[0m\u001b[0;34m:\u001b[0m\u001b[0;34m\u001b[0m\u001b[0m\n\u001b[0;32m-> 1451\u001b[0;31m             \u001b[0mbase\u001b[0m\u001b[0;34m.\u001b[0m\u001b[0msyrk\u001b[0m\u001b[0;34m(\u001b[0m\u001b[0mF\u001b[0m\u001b[0;34m[\u001b[0m\u001b[0;34m'Gs'\u001b[0m\u001b[0;34m]\u001b[0m\u001b[0;34m,\u001b[0m \u001b[0mF\u001b[0m\u001b[0;34m[\u001b[0m\u001b[0;34m'S'\u001b[0m\u001b[0;34m]\u001b[0m\u001b[0;34m,\u001b[0m \u001b[0mtrans\u001b[0m \u001b[0;34m=\u001b[0m \u001b[0;34m'T'\u001b[0m\u001b[0;34m,\u001b[0m \u001b[0mpartial\u001b[0m \u001b[0;34m=\u001b[0m \u001b[0;32mTrue\u001b[0m\u001b[0;34m)\u001b[0m\u001b[0;34m\u001b[0m\u001b[0m\n\u001b[0m\u001b[1;32m   1452\u001b[0m             if mnl: base.syrk(F['Dfs'], F['S'], trans = 'T', beta = 1.0, \n\u001b[1;32m   1453\u001b[0m                 partial = True)\n",
      "\u001b[0;31mKeyboardInterrupt\u001b[0m: "
     ]
    }
   ],
   "source": [
    "#cross validation\n",
    "list_nu=np.arange(0.1,0.8,0.1)\n",
    "list_sigma2=np.arange(30,100,10)\n",
    "\n",
    "list_score = cross_val(list_nu,list_sigma2,X_train,X_test)\n",
    "nu_best, sigma2_best = best_score(list_score)\n",
    "kernel = ['RBF',sigma2_best]\n",
    "\n",
    "#final model\n",
    "alpha, rho = fit(X_train, nu_best, kernel)\n",
    "y_pred = np.sign(predict(X_train, X_test, alpha, rho, kernel)).flatten()\n",
    "\n",
    "nu_best =0.1\n",
    "sigma2_best = 90\n",
    "\n",
    "from sklearn.metrics import confusion_matrix, classification_report\n",
    "print(confusion_matrix(y_test,y_pred))\n",
    "print(classification_report(y_test,y_pred))"
   ]
  },
  {
   "cell_type": "markdown",
   "metadata": {
    "collapsed": true
   },
   "source": [
    "#### KMEANS"
   ]
  },
  {
   "cell_type": "code",
   "execution_count": 245,
   "metadata": {
    "collapsed": true
   },
   "outputs": [],
   "source": [
    "kmeans = OkMeans(X_train)\n",
    "kmeans.fit(1,k=1)\n",
    "y_pred = kmeans.predict(X_test)\n",
    "y_pred = np.sign(y_pred)"
   ]
  },
  {
   "cell_type": "code",
   "execution_count": 246,
   "metadata": {},
   "outputs": [
    {
     "name": "stdout",
     "output_type": "stream",
     "text": [
      "[[ 31   0]\n",
      " [449   0]]\n",
      "             precision    recall  f1-score   support\n",
      "\n",
      "       -1.0       0.06      1.00      0.12        31\n",
      "        1.0       0.00      0.00      0.00       449\n",
      "\n",
      "avg / total       0.00      0.06      0.01       480\n",
      "\n",
      "false positive rate: 0.94\n"
     ]
    },
    {
     "name": "stderr",
     "output_type": "stream",
     "text": [
      "/Users/antoinegrelety/anaconda3/lib/python3.6/site-packages/sklearn/metrics/classification.py:1113: UndefinedMetricWarning: Precision and F-score are ill-defined and being set to 0.0 in labels with no predicted samples.\n",
      "  'precision', 'predicted', average, warn_for)\n"
     ]
    }
   ],
   "source": [
    "from sklearn.metrics import confusion_matrix, classification_report\n",
    "conf = confusion_matrix(y_test,y_pred)\n",
    "print(conf)\n",
    "print(classification_report(y_test,y_pred))\n",
    "print(\"false positive rate:\",np.round(conf[1,0]/np.sum(conf[0][0]+conf[1][0]),2))"
   ]
  },
  {
   "cell_type": "code",
   "execution_count": null,
   "metadata": {
    "collapsed": true
   },
   "outputs": [],
   "source": []
  }
 ],
 "metadata": {
  "kernelspec": {
   "display_name": "Python 3",
   "language": "python",
   "name": "python3"
  },
  "language_info": {
   "codemirror_mode": {
    "name": "ipython",
    "version": 3
   },
   "file_extension": ".py",
   "mimetype": "text/x-python",
   "name": "python",
   "nbconvert_exporter": "python",
   "pygments_lexer": "ipython3",
   "version": "3.6.3"
  }
 },
 "nbformat": 4,
 "nbformat_minor": 2
}
