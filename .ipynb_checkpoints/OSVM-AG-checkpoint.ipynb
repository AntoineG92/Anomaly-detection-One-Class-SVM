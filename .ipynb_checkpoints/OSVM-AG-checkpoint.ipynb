{
 "cells": [
  {
   "cell_type": "markdown",
   "metadata": {},
   "source": [
    "**novelty detection**:\n",
    "The training data is not polluted by outliers, and we are interested in detecting anomalies in new observations.\n",
    "\n",
    "**outlier detection**:\n",
    "The training data contains outliers, and we need to fit the central mode of the training data, ignoring the deviant observations."
   ]
  },
  {
   "cell_type": "code",
   "execution_count": 1,
   "metadata": {},
   "outputs": [
    {
     "name": "stdout",
     "output_type": "stream",
     "text": [
      "\r\n",
      "CondaEnvironmentNotFoundError: Could not find environment: py2 .\r\n",
      "You can list all discoverable environments with `conda info --envs`.\r\n",
      "\r\n"
     ]
    }
   ],
   "source": [
    "!source activate py2"
   ]
  },
  {
   "cell_type": "code",
   "execution_count": 2,
   "metadata": {
    "collapsed": true
   },
   "outputs": [],
   "source": [
    "#!/anaconda3/envs/py2/bin/pip install cvxopt"
   ]
  },
  {
   "cell_type": "code",
   "execution_count": 4,
   "metadata": {},
   "outputs": [],
   "source": [
    "import numpy as np\n",
    "from cvxopt import solvers, lapack, matrix, spmatrix\n",
    "solvers.options['show_progress'] = 0\n",
    "import matplotlib.pyplot as plt\n",
    "import matplotlib as mpl\n",
    "% matplotlib inline"
   ]
  },
  {
   "cell_type": "code",
   "execution_count": null,
   "metadata": {
    "collapsed": true
   },
   "outputs": [],
   "source": []
  },
  {
   "cell_type": "markdown",
   "metadata": {},
   "source": [
    "## Generate Data"
   ]
  },
  {
   "cell_type": "code",
   "execution_count": 5,
   "metadata": {
    "scrolled": true
   },
   "outputs": [
    {
     "data": {
      "image/png": "[encoded data removed]",
      "text/plain": [
       "<matplotlib.figure.Figure at 0x113053d68>"
      ]
     },
     "metadata": {},
     "output_type": "display_data"
    }
   ],
   "source": [
    "X = 0.3 * np.random.randn(100, 2)\n",
    "X = np.r_[X + 2, X - 2]\n",
    "\n",
    "def plot(X):\n",
    "    plt.scatter(X[:,0], X[:,1], edgecolors  = 'black')\n",
    "    pass\n",
    "\n",
    "plot(X)\n"
   ]
  },
  {
   "cell_type": "markdown",
   "metadata": {},
   "source": [
    "## Algorithms"
   ]
  },
  {
   "cell_type": "markdown",
   "metadata": {},
   "source": [
    "### Basic solution : solving the dual by Quadratic Programming\n",
    "\n",
    "\\begin{aligned}\n",
    "& \\min_\\alpha \\frac{1}{2} \\sum_{i,j} \\alpha_i\\alpha_j k(x_i,x_j) \\\\\n",
    "& s.t. \\ 0 \\leq \\alpha_i \\leq \\frac{1}{n \\nu}, \\ \\sum_i \\alpha_i = 1\n",
    "\\end{aligned}\n",
    "In matrix form : \n",
    "\\begin{aligned}\n",
    "& \\min_\\alpha \\frac{1}{2} \\alpha^\\top K \\alpha \\\\ & s.t. \\ \\alpha \\leq \\frac{1}{n\\nu}, \\ 1^\\top \\alpha = 1\n",
    "\\end{aligned}"
   ]
  },
  {
   "cell_type": "markdown",
   "metadata": {},
   "source": [
    "QP in standard form :\n",
    "\n",
    "\\begin{aligned}\n",
    "& \\min_x \\frac{1}{2} x^\\top P x + q^\\top x \\\\\n",
    "& s.t. \\ Gx \\leq h, \\ Ax = b\n",
    "\\end{aligned}"
   ]
  },
  {
   "cell_type": "code",
   "execution_count": 417,
   "metadata": {
    "collapsed": true
   },
   "outputs": [],
   "source": [
    "def RBF_Kernel(X, sigma2, Y = None):\n",
    "    \" Compute the RBF kernel matrix of X\"\n",
    "    from sklearn.metrics.pairwise import euclidean_distances\n",
    "    \n",
    "    if type(Y)==type(None):\n",
    "        Y = X\n",
    "    \n",
    "    K = euclidean_distances(X,Y, squared=True)\n",
    "    K *= -1./sigma2\n",
    "    K = np.exp(K)\n",
    "    return K"
   ]
  },
  {
   "cell_type": "code",
   "execution_count": 418,
   "metadata": {
    "collapsed": true
   },
   "outputs": [],
   "source": [
    "def C_i(alpha,K,i,a,b): #a,b pair of indexes optimized at the current step\n",
    "    return(np.sum([alpha[k]*K[i,k] for k in range(n) if k not in [a,b]]))"
   ]
  },
  {
   "cell_type": "code",
   "execution_count": 419,
   "metadata": {},
   "outputs": [],
   "source": [
    "def O_i(alpha,K,i,a,b):\n",
    "    C_i_val = C_i(alpha,K,i,a,b)\n",
    "    return(K[a,i]*alpha[a] + K[b,i]*alpha[b] + C_i_val)"
   ]
  },
  {
   "cell_type": "markdown",
   "metadata": {},
   "source": [
    "### Fit OCC with Sequential Minimal Optimization"
   ]
  },
  {
   "cell_type": "code",
   "execution_count": 449,
   "metadata": {},
   "outputs": [
    {
     "name": "stdout",
     "output_type": "stream",
     "text": [
      "check sum alpha 1.0435689191731843\n",
      "rho init= 0.28914174661375014\n",
      "180\n",
      "i= 0 j= 171\n",
      "alpha i -0.18643253004786978 alpha j 0.14336420174757117\n",
      "updated rho 0.2759534876225385\n",
      "178\n",
      "i= 0 j= 120\n",
      "alpha i -0.09844143495914534 alpha j -0.08785100740331367\n",
      "updated rho 0.19346716945992126\n",
      "177\n",
      "i= 0 j= 71\n",
      "alpha i -0.19166166494097428 alpha j 0.09368078468545807\n",
      "updated rho 0.19328842766998006\n",
      "176\n",
      "i= 0 j= 126\n",
      "alpha i -0.14308126441234598 alpha j -0.048479970762584326\n",
      "updated rho 0.165027866888334\n",
      "175\n",
      "i= 0 j= 184\n",
      "alpha i -0.21362862522314985 alpha j 0.070746342266915\n",
      "updated rho 0.14782412379407764\n",
      "174\n",
      "i= 0 j= 32\n",
      "alpha i -0.17007748345730372 alpha j -0.0430717260900469\n",
      "updated rho 0.14588409393521815\n",
      "173\n",
      "i= 0 j= 74\n",
      "alpha i -0.22406704594520058 alpha j 0.05408877301904828\n",
      "updated rho 0.14588409393521815\n",
      "172\n",
      "i= 0 j= 106\n",
      "alpha i -0.17978304025983055 alpha j -0.04416926113642912\n",
      "updated rho 0.143593089908532\n",
      "171\n",
      "i= 0 j= 36\n",
      "alpha i -0.22723048505569104 alpha j 0.04771578087244582\n",
      "updated rho 0.14359308990853198\n",
      "171\n",
      "i= 0 j= 142\n",
      "alpha i -0.19256411106309665 alpha j -0.034392206645387696\n",
      "updated rho 0.14359308990495218\n",
      "170\n",
      "i= 0 j= 84\n",
      "alpha i -0.23354895860253816 alpha j 0.04131021088671054\n",
      "updated rho 0.14359308990495218\n",
      "170\n",
      "i= 0 j= 189\n",
      "alpha i -0.20537013280896854 alpha j -0.02794352551332402\n",
      "updated rho 0.14359308956210043\n",
      "169\n",
      "i= 0 j= 174\n",
      "alpha i -0.23802284298539267 alpha j 0.033057990135928354\n",
      "updated rho 0.14359308956210046\n",
      "169\n",
      "i= 0 j= 25\n",
      "alpha i -0.19683127284688737 alpha j -0.04074476605023262\n",
      "updated rho 0.14359308956210043\n",
      "168\n",
      "i= 0 j= 173\n",
      "alpha i -0.22683982936833139 alpha j 0.030173809375787314\n",
      "updated rho 0.1437272690573572\n",
      "168\n",
      "i= 0 j= 165\n",
      "alpha i -0.20133934389559244 alpha j -0.02530439542374192\n",
      "updated rho 0.14372726904804708\n",
      "167\n",
      "i= 0 j= 53\n",
      "alpha i -0.22608505757808037 alpha j 0.02513882113450092\n",
      "updated rho 0.14372726904804706\n",
      "167\n",
      "i= 0 j= 123\n",
      "alpha i -0.20487297384960068 alpha j -0.02075676015186968\n",
      "updated rho 0.14372687448113156\n",
      "166\n",
      "i= 0 j= 136\n",
      "alpha i -0.22547685320159666 alpha j 0.020875452288954217\n",
      "updated rho 0.143726874481142\n",
      "166\n",
      "i= 0 j= 95\n",
      "alpha i -0.18474198122556898 alpha j -0.040708487408586215\n",
      "updated rho 0.143726874481142\n"
     ]
    }
   ],
   "source": [
    "#%%capture\n",
    "nu = 0.10\n",
    "sigma2 = 0.10\n",
    "n = X.shape[0]\n",
    "K = RBF_Kernel(X, sigma2)\n",
    "K = np.c_[ K, np.ones(n) ]\n",
    "K = np.append(K, [np.ones(n+1)], axis = 0)\n",
    "\n",
    "#### initialization ####\n",
    "#init alpha\n",
    "#problème: si on initialise les valeurs de alpha à zéro et une fraction nu à 1/(nu*n), alors SV_nb est vide...\n",
    "#alpha=np.zeros(n)\n",
    "alpha = np.random.uniform(0,nu/(n),size=n)  #randomize alpha\n",
    "ind=np.random.choice(n,size=int(nu*n),replace=False)\n",
    "alpha[ind]=1/int(nu*(n))  #fill fraction nu of alpha with edge value 1/(n*nu)\n",
    "if (nu*n).is_integer()==False:\n",
    "    alpha[ind[0]]=1-np.sum(np.delete(alpha,ind[0]))\n",
    "print(\"check sum alpha\",np.sum(alpha))  #check constraint sum(alpha)=1\n",
    "#init rho subject to pair (alpha_1,alpha2)\n",
    "i=np.random.randint(0,n)\n",
    "j=np.random.randint(0,n)\n",
    "rho=np.max([O_i(alpha,K,w,i,j) for w in range(n) if alpha[w]>0])\n",
    "print(\"rho init=\",rho)\n",
    "\n",
    "#### Optimization ####\n",
    "for iter_ in range(20):\n",
    "    #define shorthand SV_nb: index of values of alpha that are not at bound\n",
    "    SV_nb = [i for i in range(n) if (alpha[i]<1/(nu*n)) and (alpha[i]>0)]\n",
    "    print(len(SV_nb))\n",
    "    #loop through the entire dataset and find u that violates KKT condition, given a pair (alpha_i,alpha_j)\n",
    "    u=0\n",
    "    while( (((O_i(alpha,K,u,i,j)-rho)*alpha[u]>0)==False) and \\\n",
    "          (((rho - O_i(alpha,K,u,i,j))*(1/(nu*n)-alpha[u]) > 0 )==False) ):\n",
    "        u=u+1\n",
    "    if u==n:\n",
    "        break  #if no KKT violators are found, optimization is over\n",
    "    #update pair indexes i and j\n",
    "    if len(SV_nb)==0:\n",
    "        SV_nb.append(np.random.randint(0,n))\n",
    "    #print(SV_nb)\n",
    "    vect_max = [abs(O_i(alpha,K,u,i,j)-O_i(alpha,K,n,i,j)) for n in SV_nb]\n",
    "    j=[n for n in SV_nb if abs(O_i(alpha,K,u,i,j)-O_i(alpha,K,n,i,j)) == np.max(vect_max) ][0]\n",
    "    i=u\n",
    "    print(\"i=\",u,\"j=\",j)\n",
    "    #update pair alpha according to eq (24)\n",
    "    alpha[j] = alpha[j] + (O_i(alpha,K,i,i,j)-O_i(alpha,K,j,i,j))/(K[i,i]+K[j,j]-2*K[i,j])\n",
    "    delta = 1-np.sum([alpha[k] for k in range(n) if k not in [i,j]])\n",
    "    alpha[i] = delta - alpha[j]\n",
    "    #alpha[i] = alpha[i] + (O_i(alpha,K,j,i,j)-O_i(alpha,K,i,i,j))/(K[i,i]+K[j,j]-2*K[j,i])\n",
    "    print(\"alpha i\",alpha[i],\"alpha j\",alpha[j])\n",
    "    #update rho\n",
    "    rho=np.max([O_i(alpha,K,w,i,j) for w in range(n) if alpha[w]>0])\n",
    "    print(\"updated rho\",rho)"
   ]
  },
  {
   "cell_type": "code",
   "execution_count": 445,
   "metadata": {},
   "outputs": [
    {
     "data": {
      "text/plain": [
       "[<matplotlib.lines.Line2D at 0x11ca55be0>]"
      ]
     },
     "execution_count": 445,
     "metadata": {},
     "output_type": "execute_result"
    },
    {
     "data": {
      "image/png": "[encoded data removed]",
      "text/plain": [
       "<matplotlib.figure.Figure at 0x11b14f630>"
      ]
     },
     "metadata": {},
     "output_type": "display_data"
    }
   ],
   "source": [
    "plt.plot(alpha)"
   ]
  },
  {
   "cell_type": "code",
   "execution_count": 446,
   "metadata": {},
   "outputs": [
    {
     "name": "stdout",
     "output_type": "stream",
     "text": [
      "0.9999999999999999\n"
     ]
    }
   ],
   "source": [
    "print(np.sum(alpha))"
   ]
  },
  {
   "cell_type": "code",
   "execution_count": 447,
   "metadata": {},
   "outputs": [
    {
     "data": {
      "text/plain": [
       "0.16014133545282375"
      ]
     },
     "execution_count": 447,
     "metadata": {},
     "output_type": "execute_result"
    }
   ],
   "source": [
    "rho"
   ]
  },
  {
   "cell_type": "code",
   "execution_count": 319,
   "metadata": {
    "collapsed": true
   },
   "outputs": [],
   "source": [
    "def predict(X, newData, alpha, rho, sigma2):\n",
    "    n = X.shape[0]\n",
    "    K = RBF_Kernel(X, sigma2, newData)\n",
    "    return np.transpose(np.dot(np.reshape(alpha, (1,n)), K) - rho)"
   ]
  },
  {
   "cell_type": "code",
   "execution_count": 320,
   "metadata": {
    "collapsed": true
   },
   "outputs": [],
   "source": [
    "def get_grid(X, step = 0.05):\n",
    "    x_axis = np.arange(min(X[:,0])-step,max(X[:,0])+2*step,step)\n",
    "    y_axis = np.arange(min(X[:,1])-step,max(X[:,1])+2*step,step)\n",
    "\n",
    "    my_grid = []\n",
    "    for i in x_axis:\n",
    "        for j in y_axis:\n",
    "            my_grid.append([i,j])#,1])\n",
    "    my_grid = np.array(my_grid)\n",
    "    \n",
    "    return x_axis, y_axis, my_grid\n",
    "\n",
    "def Normalize_Pred(pred):    \n",
    "    pred_100 = pred -np.min(pred)\n",
    "    pred_100 = (pred_100 / np.max(pred_100)) * 100\n",
    "    return pred_100\n",
    "\n",
    "def get_delim(pred_100, x_axis, y_axis, eps = 0):\n",
    "    ix_delim = np.where((pred_100  < eps) & (pred_100  > -eps))[0]\n",
    "    x_delim = []\n",
    "    y_delim = []\n",
    "    for i in range(len(ix_delim)):\n",
    "        a, b = np.divmod(ix_delim[i],len(y_axis))\n",
    "        x_delim.append(x_axis[a])\n",
    "        y_delim.append(y_axis[b])\n",
    "    return x_delim, y_delim\n",
    "\n",
    "def plot_pred(X, x_axis, y_axis, pred_100, x_delim, y_delim, step = 0.05):\n",
    "    norm_colors = mpl.colors.Normalize(vmin=0,vmax=100)\n",
    "    X_axis, Y_axis = np.meshgrid(x_axis, y_axis)\n",
    "    C = np.transpose(pred_100.reshape((len(x_axis), len(y_axis))))\n",
    "    plt.pcolor(X_axis, Y_axis, C, norm= norm_colors, cmap = 'YlOrRd')\n",
    "    plt.scatter(x_delim, y_delim, c = 'black', s = 10)\n",
    "    plot(X)\n",
    "    plt.xlim((min(X[:,0])-step,max(X[:,0])+step))\n",
    "    plt.ylim((min(X[:,1])-step,max(X[:,1])+step))\n",
    "    pass\n",
    "\n",
    "def plot_pred_plan(X, alpha, rho, sigma2, step = 0.05, eps = 0):\n",
    "    x_axis, y_axis, my_grid = get_grid(X, step)\n",
    "    pred = predict(X, my_grid, alpha, rho, sigma2)\n",
    "    x_delim, y_delim = get_delim(pred, x_axis, y_axis, eps)\n",
    "    pred_100 = Normalize_Pred(pred)\n",
    "    plot_pred(X, x_axis, y_axis, pred_100, x_delim, y_delim, step)\n",
    "    return pred"
   ]
  },
  {
   "cell_type": "code",
   "execution_count": 448,
   "metadata": {},
   "outputs": [
    {
     "name": "stderr",
     "output_type": "stream",
     "text": [
      "/Users/antoinegrelety/anaconda3/lib/python3.6/site-packages/ipykernel_launcher.py:15: RuntimeWarning: invalid value encountered in true_divide\n",
      "  from ipykernel import kernelapp as app\n",
      "/Users/antoinegrelety/anaconda3/lib/python3.6/site-packages/ipykernel_launcher.py:19: RuntimeWarning: invalid value encountered in less\n",
      "/Users/antoinegrelety/anaconda3/lib/python3.6/site-packages/ipykernel_launcher.py:19: RuntimeWarning: invalid value encountered in greater\n"
     ]
    },
    {
     "data": {
      "image/png": "[encoded data removed]",
      "text/plain": [
       "<matplotlib.figure.Figure at 0x11e0fd278>"
      ]
     },
     "metadata": {},
     "output_type": "display_data"
    }
   ],
   "source": [
    "step = 0.05\n",
    "nu = 0.1\n",
    "sigma2 = 0.1\n",
    "#alpha, rho = fit(X, nu, sigma2)\n",
    "\n",
    "plt.figure(figsize=(10,5))\n",
    "plt.subplot(1,2,1)\n",
    "pred = plot_pred_plan(X, alpha, rho, sigma2, step = step)\n",
    "\n",
    "plt.subplot(1,2,2)\n",
    "x_axis, y_axis, my_grid = get_grid(X, step = step)\n",
    "pred_bin = np.sign(pred)\n",
    "pred_100 = Normalize_Pred(pred_bin)\n",
    "x_delim, y_delim = get_delim(pred_100, x_axis, y_axis, eps = 0)\n",
    "plot_pred(X, x_axis, y_axis, pred_100, x_delim, y_delim, step = step)"
   ]
  },
  {
   "cell_type": "code",
   "execution_count": null,
   "metadata": {
    "collapsed": true
   },
   "outputs": [],
   "source": []
  },
  {
   "cell_type": "markdown",
   "metadata": {},
   "source": [
    "### Better solution : SMO variant"
   ]
  },
  {
   "cell_type": "code",
   "execution_count": null,
   "metadata": {
    "collapsed": true
   },
   "outputs": [],
   "source": []
  },
  {
   "cell_type": "code",
   "execution_count": null,
   "metadata": {
    "collapsed": true
   },
   "outputs": [],
   "source": []
  },
  {
   "cell_type": "code",
   "execution_count": null,
   "metadata": {
    "collapsed": true
   },
   "outputs": [],
   "source": []
  },
  {
   "cell_type": "code",
   "execution_count": null,
   "metadata": {
    "collapsed": true
   },
   "outputs": [],
   "source": []
  }
 ],
 "metadata": {
  "kernelspec": {
   "display_name": "Python 3",
   "language": "python",
   "name": "python3"
  },
  "language_info": {
   "codemirror_mode": {
    "name": "ipython",
    "version": 3
   },
   "file_extension": ".py",
   "mimetype": "text/x-python",
   "name": "python",
   "nbconvert_exporter": "python",
   "pygments_lexer": "ipython3",
   "version": "3.6.3"
  }
 },
 "nbformat": 4,
 "nbformat_minor": 2
}
