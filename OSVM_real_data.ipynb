{
 "cells": [
  {
   "cell_type": "markdown",
   "metadata": {},
   "source": [
    "**novelty detection**:\n",
    "The training data is not polluted by outliers, and we are interested in detecting anomalies in new observations.\n",
    "\n",
    "**outlier detection**:\n",
    "The training data contains outliers, and we need to fit the central mode of the training data, ignoring the deviant observations."
   ]
  },
  {
   "cell_type": "code",
   "execution_count": 14,
   "metadata": {},
   "outputs": [
    {
     "name": "stdout",
     "output_type": "stream",
     "text": [
      "\r\n",
      "CondaEnvironmentNotFoundError: Could not find environment: py2 .\r\n",
      "You can list all discoverable environments with `conda info --envs`.\r\n",
      "\r\n"
     ]
    }
   ],
   "source": [
    "!source activate py2"
   ]
  },
  {
   "cell_type": "code",
   "execution_count": 15,
   "metadata": {
    "collapsed": true
   },
   "outputs": [],
   "source": [
    "#!/anaconda3/envs/py2/bin/pip install cvxopt"
   ]
  },
  {
   "cell_type": "code",
   "execution_count": 16,
   "metadata": {
    "collapsed": true
   },
   "outputs": [],
   "source": [
    "import numpy as np\n",
    "from cvxopt import solvers, lapack, matrix, spmatrix\n",
    "solvers.options['show_progress'] = 0\n",
    "import matplotlib.pyplot as plt\n",
    "import matplotlib as mpl\n",
    "% matplotlib inline"
   ]
  },
  {
   "cell_type": "markdown",
   "metadata": {},
   "source": [
    "## Generate Data"
   ]
  },
  {
   "cell_type": "code",
   "execution_count": 118,
   "metadata": {},
   "outputs": [
    {
     "data": {
      "image/png": "[encoded data removed]",
      "text/plain": [
       "<matplotlib.figure.Figure at 0x118b507b8>"
      ]
     },
     "metadata": {},
     "output_type": "display_data"
    }
   ],
   "source": [
    "X = 0.3 * np.random.randn(100, 2)\n",
    "X = np.r_[X + 2, X - 2]\n",
    "\n",
    "#X = np.random.multivariate_normal([0,0],np.eye(2), 200)\n",
    "\n",
    "def plot(X):\n",
    "    plt.scatter(X[:,0], X[:,1], edgecolors  = 'black')\n",
    "    pass\n",
    "\n",
    "plot(X)\n"
   ]
  },
  {
   "cell_type": "markdown",
   "metadata": {},
   "source": [
    "## Algorithms"
   ]
  },
  {
   "cell_type": "markdown",
   "metadata": {},
   "source": [
    "### Basic solution : solving the dual by Quadratic Programming\n",
    "\n",
    "\\begin{aligned}\n",
    "& \\min_\\alpha \\frac{1}{2} \\sum_{i,j} \\alpha_i\\alpha_j k(x_i,x_j) \\\\\n",
    "& s.t. \\ 0 \\leq \\alpha_i \\leq \\frac{1}{n \\nu}, \\ \\sum_i \\alpha_i = 1\n",
    "\\end{aligned}\n",
    "In matrix form : \n",
    "\\begin{aligned}\n",
    "& \\min_\\alpha \\frac{1}{2} \\alpha^\\top K \\alpha \\\\ & s.t. \\ 0 \\leq \\alpha \\leq \\frac{1}{n\\nu}, \\ 1^\\top \\alpha = 1\n",
    "\\end{aligned}"
   ]
  },
  {
   "cell_type": "markdown",
   "metadata": {},
   "source": [
    "QP in standard form :\n",
    "\n",
    "\\begin{aligned}\n",
    "& \\min_x \\frac{1}{2} x^\\top P x + q^\\top x \\\\\n",
    "& s.t. \\ Gx \\leq h, \\ Ax = b\n",
    "\\end{aligned}"
   ]
  },
  {
   "cell_type": "code",
   "execution_count": 18,
   "metadata": {},
   "outputs": [
    {
     "data": {
      "text/plain": [
       "array([[0, 3],\n",
       "       [7, 2],\n",
       "       [0, 3],\n",
       "       [7, 2]])"
      ]
     },
     "execution_count": 18,
     "metadata": {},
     "output_type": "execute_result"
    }
   ],
   "source": [
    "a = np.random.randint(0,9, (2,2))\n",
    "np.concatenate([a,a], axis = 0)"
   ]
  },
  {
   "cell_type": "code",
   "execution_count": 19,
   "metadata": {
    "collapsed": true
   },
   "outputs": [],
   "source": [
    "def RBF_Kernel(X, sigma2, Y = None):\n",
    "    \" Compute the RBF kernel matrix of X\"\n",
    "    from sklearn.metrics.pairwise import euclidean_distances\n",
    "    \n",
    "    if type(Y)==type(None):\n",
    "        Y = X\n",
    "    \n",
    "    K = euclidean_distances(X,Y, squared=True)\n",
    "    K *= -1./sigma2\n",
    "    K = np.exp(K)\n",
    "    return K"
   ]
  },
  {
   "cell_type": "code",
   "execution_count": 20,
   "metadata": {
    "collapsed": true
   },
   "outputs": [],
   "source": [
    "def fit(X, nu, sigma2):\n",
    "    n = X.shape[0]\n",
    "    K = RBF_Kernel(X, sigma2)\n",
    "    \n",
    "    P = matrix(K, tc = 'd')\n",
    "    q = matrix([0]*n, tc = 'd')\n",
    "    G = matrix(np.concatenate([np.eye(n),-np.eye(n)], axis = 0), tc = 'd')\n",
    "    h_value = [1./(n * nu)]*n\n",
    "    h_value.extend([0]*n)\n",
    "    h = matrix(h_value, tc = 'd')\n",
    "    A = matrix(np.reshape([1]*n, (1,n)), tc = 'd')\n",
    "    b = matrix(1, tc = 'd')\n",
    "    \n",
    "    sol = solvers.qp(P,q,G,h,A,b)\n",
    "    alpha = np.array(sol['x'])\n",
    "    ix_in = np.where((alpha > 1e-5) & (alpha < 1./(n*nu)))[0][0]\n",
    "    rho = np.transpose(np.dot(np.reshape(alpha, (1,n)), K[:,ix_in]))\n",
    "\n",
    "    return alpha, rho\n",
    "\n",
    "def predict(X, newData, alpha, rho, sigma2):\n",
    "    n = X.shape[0]\n",
    "    K = RBF_Kernel(X, sigma2, newData)\n",
    "    return np.transpose(np.dot(np.reshape(alpha, (1,n)), K) - rho)"
   ]
  },
  {
   "cell_type": "code",
   "execution_count": 21,
   "metadata": {
    "collapsed": true
   },
   "outputs": [],
   "source": [
    "def get_grid(X, step = 0.05):\n",
    "    x_axis = np.arange(min(X[:,0])-step,max(X[:,0])+2*step,step)\n",
    "    y_axis = np.arange(min(X[:,1])-step,max(X[:,1])+2*step,step)\n",
    "\n",
    "    my_grid = []\n",
    "    for i in x_axis:\n",
    "        for j in y_axis:\n",
    "            my_grid.append([i,j])#,1])\n",
    "    my_grid = np.array(my_grid)\n",
    "    \n",
    "    return x_axis, y_axis, my_grid\n",
    "\n",
    "def Normalize_Pred(pred):    \n",
    "    pred_100 = pred -np.min(pred)\n",
    "    pred_100 = (pred_100 / np.max(pred_100)) * 100\n",
    "    return pred_100\n",
    "\n",
    "def get_delim(pred_100, x_axis, y_axis, eps = 0):\n",
    "    ix_delim = np.where((pred_100  < eps) & (pred_100  > -eps))[0]\n",
    "    x_delim = []\n",
    "    y_delim = []\n",
    "    for i in range(len(ix_delim)):\n",
    "        a, b = np.divmod(ix_delim[i],len(y_axis))\n",
    "        x_delim.append(x_axis[a])\n",
    "        y_delim.append(y_axis[b])\n",
    "    return x_delim, y_delim\n",
    "\n",
    "def plot_pred(X, x_axis, y_axis, pred_100, x_delim, y_delim, step = 0.05):\n",
    "    norm_colors = mpl.colors.Normalize(vmin=0,vmax=100)\n",
    "    X_axis, Y_axis = np.meshgrid(x_axis, y_axis)\n",
    "    C = np.transpose(pred_100.reshape((len(x_axis), len(y_axis))))\n",
    "    plt.pcolor(X_axis, Y_axis, C, norm= norm_colors, cmap = 'YlOrRd')\n",
    "    plt.scatter(x_delim, y_delim, c = 'black', s = 10)\n",
    "    plot(X)\n",
    "    plt.xlim((min(X[:,0])-step,max(X[:,0])+step))\n",
    "    plt.ylim((min(X[:,1])-step,max(X[:,1])+step))\n",
    "    pass\n",
    "\n",
    "def plot_pred_plan(X, alpha, rho, sigma2, step = 0.05, eps = 0):\n",
    "    x_axis, y_axis, my_grid = get_grid(X, step)\n",
    "    pred = predict(X, my_grid, alpha, rho, sigma2)\n",
    "    x_delim, y_delim = get_delim(pred, x_axis, y_axis, eps)\n",
    "    pred_100 = Normalize_Pred(pred)\n",
    "    plot_pred(X, x_axis, y_axis, pred_100, x_delim, y_delim, step)\n",
    "    return pred"
   ]
  },
  {
   "cell_type": "code",
   "execution_count": 119,
   "metadata": {},
   "outputs": [
    {
     "data": {
      "image/png": "[encoded data removed]",
      "text/plain": [
       "<matplotlib.figure.Figure at 0x1176b5a58>"
      ]
     },
     "metadata": {},
     "output_type": "display_data"
    }
   ],
   "source": [
    "step = 0.05\n",
    "nu = 0.1\n",
    "sigma2 = 0.1\n",
    "\n",
    "alpha, rho = fit(X, nu, sigma2)\n",
    "\n",
    "plt.figure(figsize=(10,5))\n",
    "plt.subplot(1,2,1)\n",
    "pred = plot_pred_plan(X, alpha, rho, sigma2, step = step)\n",
    "\n",
    "plt.subplot(1,2,2)\n",
    "x_axis, y_axis, my_grid = get_grid(X, step = step)\n",
    "pred_bin = np.sign(pred)\n",
    "pred_100 = Normalize_Pred(pred_bin)\n",
    "x_delim, y_delim = get_delim(pred_100, x_axis, y_axis, eps = 0)\n",
    "plot_pred(X, x_axis, y_axis, pred_100, x_delim, y_delim, step = step)"
   ]
  },
  {
   "cell_type": "code",
   "execution_count": 44,
   "metadata": {},
   "outputs": [
    {
     "data": {
      "text/plain": [
       "[<matplotlib.lines.Line2D at 0x116eef9e8>]"
      ]
     },
     "execution_count": 44,
     "metadata": {},
     "output_type": "execute_result"
    },
    {
     "data": {
      "image/png": "[encoded data removed]",
      "text/plain": [
       "<matplotlib.figure.Figure at 0x113ae8e80>"
      ]
     },
     "metadata": {},
     "output_type": "display_data"
    }
   ],
   "source": [
    "plt.plot(alpha)"
   ]
  },
  {
   "cell_type": "code",
   "execution_count": null,
   "metadata": {
    "collapsed": true
   },
   "outputs": [],
   "source": []
  },
  {
   "cell_type": "code",
   "execution_count": null,
   "metadata": {
    "collapsed": true
   },
   "outputs": [],
   "source": []
  },
  {
   "cell_type": "markdown",
   "metadata": {},
   "source": [
    "### Better solution : SMO variant"
   ]
  },
  {
   "cell_type": "code",
   "execution_count": null,
   "metadata": {
    "collapsed": true
   },
   "outputs": [],
   "source": []
  },
  {
   "cell_type": "markdown",
   "metadata": {},
   "source": [
    "### Application to real data"
   ]
  },
  {
   "cell_type": "markdown",
   "metadata": {},
   "source": [
    "#### Stamps data"
   ]
  },
  {
   "cell_type": "code",
   "execution_count": 221,
   "metadata": {},
   "outputs": [
    {
     "data": {
      "text/html": [
       "<div>\n",
       "<style>\n",
       "    .dataframe thead tr:only-child th {\n",
       "        text-align: right;\n",
       "    }\n",
       "\n",
       "    .dataframe thead th {\n",
       "        text-align: left;\n",
       "    }\n",
       "\n",
       "    .dataframe tbody tr th {\n",
       "        vertical-align: top;\n",
       "    }\n",
       "</style>\n",
       "<table border=\"1\" class=\"dataframe\">\n",
       "  <thead>\n",
       "    <tr style=\"text-align: right;\">\n",
       "      <th></th>\n",
       "      <th>0</th>\n",
       "      <th>1</th>\n",
       "      <th>2</th>\n",
       "      <th>3</th>\n",
       "      <th>4</th>\n",
       "      <th>5</th>\n",
       "      <th>6</th>\n",
       "      <th>7</th>\n",
       "      <th>8</th>\n",
       "      <th>9</th>\n",
       "    </tr>\n",
       "  </thead>\n",
       "  <tbody>\n",
       "    <tr>\n",
       "      <th>0</th>\n",
       "      <td>0.112011</td>\n",
       "      <td>0.425226</td>\n",
       "      <td>0.424364</td>\n",
       "      <td>0.681209</td>\n",
       "      <td>0.748623</td>\n",
       "      <td>0.066976</td>\n",
       "      <td>0.865725</td>\n",
       "      <td>0.020741</td>\n",
       "      <td>0.181869</td>\n",
       "      <td>1</td>\n",
       "    </tr>\n",
       "    <tr>\n",
       "      <th>1</th>\n",
       "      <td>0.000000</td>\n",
       "      <td>0.425226</td>\n",
       "      <td>0.043612</td>\n",
       "      <td>0.086249</td>\n",
       "      <td>0.122159</td>\n",
       "      <td>0.000000</td>\n",
       "      <td>0.889814</td>\n",
       "      <td>1.000000</td>\n",
       "      <td>0.969187</td>\n",
       "      <td>1</td>\n",
       "    </tr>\n",
       "    <tr>\n",
       "      <th>2</th>\n",
       "      <td>0.119357</td>\n",
       "      <td>0.425226</td>\n",
       "      <td>0.280526</td>\n",
       "      <td>0.587800</td>\n",
       "      <td>0.696619</td>\n",
       "      <td>0.014433</td>\n",
       "      <td>0.980303</td>\n",
       "      <td>0.367449</td>\n",
       "      <td>0.595861</td>\n",
       "      <td>1</td>\n",
       "    </tr>\n",
       "    <tr>\n",
       "      <th>3</th>\n",
       "      <td>0.024987</td>\n",
       "      <td>0.425226</td>\n",
       "      <td>0.056383</td>\n",
       "      <td>0.097072</td>\n",
       "      <td>0.130242</td>\n",
       "      <td>0.001800</td>\n",
       "      <td>0.787256</td>\n",
       "      <td>0.284758</td>\n",
       "      <td>0.804989</td>\n",
       "      <td>1</td>\n",
       "    </tr>\n",
       "    <tr>\n",
       "      <th>4</th>\n",
       "      <td>0.176667</td>\n",
       "      <td>0.425226</td>\n",
       "      <td>0.356267</td>\n",
       "      <td>0.515091</td>\n",
       "      <td>0.555632</td>\n",
       "      <td>0.059072</td>\n",
       "      <td>0.881087</td>\n",
       "      <td>0.006373</td>\n",
       "      <td>0.124229</td>\n",
       "      <td>1</td>\n",
       "    </tr>\n",
       "  </tbody>\n",
       "</table>\n",
       "</div>"
      ],
      "text/plain": [
       "          0         1         2         3         4         5         6  \\\n",
       "0  0.112011  0.425226  0.424364  0.681209  0.748623  0.066976  0.865725   \n",
       "1  0.000000  0.425226  0.043612  0.086249  0.122159  0.000000  0.889814   \n",
       "2  0.119357  0.425226  0.280526  0.587800  0.696619  0.014433  0.980303   \n",
       "3  0.024987  0.425226  0.056383  0.097072  0.130242  0.001800  0.787256   \n",
       "4  0.176667  0.425226  0.356267  0.515091  0.555632  0.059072  0.881087   \n",
       "\n",
       "          7         8  9  \n",
       "0  0.020741  0.181869  1  \n",
       "1  1.000000  0.969187  1  \n",
       "2  0.367449  0.595861  1  \n",
       "3  0.284758  0.804989  1  \n",
       "4  0.006373  0.124229  1  "
      ]
     },
     "execution_count": 221,
     "metadata": {},
     "output_type": "execute_result"
    }
   ],
   "source": [
    "import pandas as pd\n",
    "df = pd.read_csv(\"stamps.txt\",sep=\"\\t\",header=None)\n",
    "df.head()"
   ]
  },
  {
   "cell_type": "markdown",
   "metadata": {},
   "source": [
    "data source: http://cs.au.dk/~barbora/outDet.html"
   ]
  },
  {
   "cell_type": "code",
   "execution_count": 222,
   "metadata": {},
   "outputs": [
    {
     "name": "stdout",
     "output_type": "stream",
     "text": [
      "% of outlier: 0.09117647058823529\n"
     ]
    }
   ],
   "source": [
    "print(\"% of outlier:\",len(df[df[9]==1])/len(df))"
   ]
  },
  {
   "cell_type": "code",
   "execution_count": 453,
   "metadata": {},
   "outputs": [],
   "source": [
    "X=np.array(df.iloc[:,:9])\n",
    "y=np.array(df.iloc[:,9])\n",
    "y[y==1]=-1\n",
    "y[y==0]=1\n",
    "\n",
    "#split the data into train/test\n",
    "ind = np.random.choice(np.arange(0,len(X)),int(len(X)*0.7),replace=False)\n",
    "ind_test = np.setdiff1d(np.arange(0,len(X)),ind)\n",
    "#separate the data in train and test\n",
    "X_test,y_test=X[ind_test,:],y[ind_test]\n",
    "X_train,y_train=X[ind,:],y[ind]"
   ]
  },
  {
   "cell_type": "code",
   "execution_count": 454,
   "metadata": {
    "collapsed": true
   },
   "outputs": [],
   "source": [
    "nu=0.08\n",
    "sigma2=2\n",
    "alpha, rho = fit(X_train, nu, sigma2)"
   ]
  },
  {
   "cell_type": "code",
   "execution_count": 455,
   "metadata": {},
   "outputs": [],
   "source": [
    "y_pred = np.sign(predict(X_train, X_test, alpha, rho, sigma2)).flatten()"
   ]
  },
  {
   "cell_type": "code",
   "execution_count": 456,
   "metadata": {},
   "outputs": [
    {
     "name": "stdout",
     "output_type": "stream",
     "text": [
      "share of outliers on test set: 0.11650485436893204\n"
     ]
    }
   ],
   "source": [
    "print(\"share of outliers on test set:\",len(y_test[y_test==-1])/len(y_test))"
   ]
  },
  {
   "cell_type": "code",
   "execution_count": 457,
   "metadata": {},
   "outputs": [
    {
     "name": "stdout",
     "output_type": "stream",
     "text": [
      "[[ 3  9]\n",
      " [ 6 85]]\n",
      "             precision    recall  f1-score   support\n",
      "\n",
      "         -1       0.33      0.25      0.29        12\n",
      "          1       0.90      0.93      0.92        91\n",
      "\n",
      "avg / total       0.84      0.85      0.85       103\n",
      "\n"
     ]
    }
   ],
   "source": [
    "from sklearn.metrics import confusion_matrix, classification_report\n",
    "print(confusion_matrix(y_test,y_pred))\n",
    "print(classification_report(y_test,y_pred))"
   ]
  },
  {
   "cell_type": "markdown",
   "metadata": {},
   "source": [
    "#### Letter recognition dataset"
   ]
  },
  {
   "cell_type": "markdown",
   "metadata": {},
   "source": [
    "data source: http://odds.cs.stonybrook.edu/letter-recognition-dataset/"
   ]
  },
  {
   "cell_type": "code",
   "execution_count": 526,
   "metadata": {
    "collapsed": true
   },
   "outputs": [],
   "source": [
    "from scipy.io import loadmat\n",
    "x = loadmat('letter.mat')"
   ]
  },
  {
   "cell_type": "code",
   "execution_count": 527,
   "metadata": {},
   "outputs": [],
   "source": [
    "X=x['X']\n",
    "y=x['y'].flatten()\n",
    "y=y.astype(float)\n",
    "X=X.astype(int)\n",
    "y[y==1]=-1\n",
    "y[y==0]=1\n",
    "#split the data into train/test\n",
    "ind = np.random.choice(np.arange(0,len(X)),int(len(X)*0.7),replace=False)\n",
    "ind_test = np.setdiff1d(np.arange(0,len(X)),ind)\n",
    "#separate the data in train and test\n",
    "X_test,y_test=X[ind_test,:],y[ind_test]\n",
    "X_train,y_train=X[ind,:],y[ind]"
   ]
  },
  {
   "cell_type": "code",
   "execution_count": 542,
   "metadata": {
    "collapsed": true
   },
   "outputs": [],
   "source": [
    "nu=0.8\n",
    "sigma2=50\n",
    "alpha, rho = fit(X_train, nu, sigma2)\n",
    "y_pred = np.sign(predict(X_train, X_test, alpha, rho, sigma2)).flatten()"
   ]
  },
  {
   "cell_type": "code",
   "execution_count": 543,
   "metadata": {},
   "outputs": [
    {
     "name": "stdout",
     "output_type": "stream",
     "text": [
      "[[ 19  13]\n",
      " [100 348]]\n",
      "             precision    recall  f1-score   support\n",
      "\n",
      "       -1.0       0.16      0.59      0.25        32\n",
      "        1.0       0.96      0.78      0.86       448\n",
      "\n",
      "avg / total       0.91      0.76      0.82       480\n",
      "\n"
     ]
    }
   ],
   "source": [
    "from sklearn.metrics import confusion_matrix, classification_report\n",
    "print(confusion_matrix(y_test,y_pred))\n",
    "print(classification_report(y_test,y_pred))"
   ]
  },
  {
   "cell_type": "code",
   "execution_count": null,
   "metadata": {
    "collapsed": true
   },
   "outputs": [],
   "source": []
  }
 ],
 "metadata": {
  "kernelspec": {
   "display_name": "Python 3",
   "language": "python",
   "name": "python3"
  },
  "language_info": {
   "codemirror_mode": {
    "name": "ipython",
    "version": 3
   },
   "file_extension": ".py",
   "mimetype": "text/x-python",
   "name": "python",
   "nbconvert_exporter": "python",
   "pygments_lexer": "ipython3",
   "version": "3.6.3"
  }
 },
 "nbformat": 4,
 "nbformat_minor": 2
}
