{
 "cells": [
  {
   "cell_type": "code",
   "execution_count": 1,
   "metadata": {},
   "outputs": [],
   "source": [
    "!source activate py2"
   ]
  },
  {
   "cell_type": "code",
   "execution_count": 2,
   "metadata": {},
   "outputs": [],
   "source": [
    "from OCC_class import *\n",
    "from tqdm import tqdm"
   ]
  },
  {
   "cell_type": "code",
   "execution_count": 3,
   "metadata": {},
   "outputs": [],
   "source": [
    "% matplotlib inline"
   ]
  },
  {
   "cell_type": "code",
   "execution_count": 4,
   "metadata": {},
   "outputs": [],
   "source": [
    "X = np.loadtxt(\"optdigits.tra\", delimiter=\",\", unpack=False)"
   ]
  },
  {
   "cell_type": "code",
   "execution_count": 5,
   "metadata": {},
   "outputs": [],
   "source": [
    "def normalize(x):\n",
    "    is_const = np.diff(x, axis = 0) == 0\n",
    "    is_const = np.where(is_const.all(axis=0))[0]\n",
    "    ix = [i for i in range(x.shape[1]) if i not in is_const]\n",
    "    x = (x - np.mean(x, axis = 0))\n",
    "    x[:,ix] = x[:,ix] / np.std(x[:,ix], axis = 0)\n",
    "    return x"
   ]
  },
  {
   "cell_type": "code",
   "execution_count": 6,
   "metadata": {},
   "outputs": [],
   "source": [
    "x = normalize(X[:1934,:])"
   ]
  },
  {
   "cell_type": "code",
   "execution_count": 7,
   "metadata": {},
   "outputs": [],
   "source": [
    "occ = OSVM(x)\n",
    "nu = 0.1\n",
    "sigma2 = 2\n",
    "occ.fit(nu, sigma2)\n",
    "pred = occ.predict(x)"
   ]
  },
  {
   "cell_type": "code",
   "execution_count": 9,
   "metadata": {},
   "outputs": [
    {
     "name": "stderr",
     "output_type": "stream",
     "text": [
      "\n",
      "  0%|          | 0/20 [00:00<?, ?it/s]\u001b[A\n",
      "Exception in thread Thread-4:\n",
      "Traceback (most recent call last):\n",
      "  File \"/anaconda3/envs/py2/lib/python2.7/threading.py\", line 801, in __bootstrap_inner\n",
      "    self.run()\n",
      "  File \"/anaconda3/envs/py2/lib/python2.7/site-packages/tqdm/_tqdm.py\", line 144, in run\n",
      "    for instance in self.tqdm_cls._instances:\n",
      "  File \"/anaconda3/envs/py2/lib/python2.7/_weakrefset.py\", line 60, in __iter__\n",
      "    for itemref in self.data:\n",
      "RuntimeError: Set changed size during iteration\n",
      "\n",
      "\n",
      "  5%|▌         | 1/20 [00:05<01:52,  5.90s/it]\u001b[A\n",
      " 10%|█         | 2/20 [00:11<01:45,  5.86s/it]\u001b[A\n",
      " 15%|█▌        | 3/20 [00:17<01:37,  5.76s/it]\u001b[A\n",
      " 20%|██        | 4/20 [00:22<01:31,  5.75s/it]\u001b[A\n",
      " 25%|██▌       | 5/20 [00:28<01:25,  5.72s/it]\u001b[A\n",
      " 30%|███       | 6/20 [00:34<01:19,  5.69s/it]\u001b[A\n",
      " 35%|███▌      | 7/20 [00:39<01:14,  5.70s/it]\u001b[A\n",
      " 40%|████      | 8/20 [00:45<01:08,  5.73s/it]\u001b[A\n",
      " 45%|████▌     | 9/20 [00:52<01:03,  5.81s/it]\u001b[A\n",
      " 50%|█████     | 10/20 [01:00<01:00,  6.03s/it]\u001b[A\n",
      " 55%|█████▌    | 11/20 [01:06<00:54,  6.07s/it]\u001b[A\n",
      " 60%|██████    | 12/20 [01:12<00:48,  6.02s/it]\u001b[A\n",
      " 65%|██████▌   | 13/20 [01:17<00:41,  5.98s/it]\u001b[A\n",
      " 70%|███████   | 14/20 [01:23<00:35,  5.94s/it]\u001b[A\n",
      " 75%|███████▌  | 15/20 [01:28<00:29,  5.90s/it]\u001b[A\n",
      " 80%|████████  | 16/20 [01:33<00:23,  5.87s/it]\u001b[A\n",
      " 85%|████████▌ | 17/20 [01:39<00:17,  5.83s/it]\u001b[A\n",
      " 90%|█████████ | 18/20 [01:44<00:11,  5.81s/it]\u001b[A\n",
      " 95%|█████████▌| 19/20 [01:49<00:05,  5.78s/it]\u001b[A\n",
      "100%|██████████| 20/20 [01:55<00:00,  5.76s/it]\u001b[A\n",
      "\u001b[A"
     ]
    }
   ],
   "source": [
    "from tqdm import tqdm\n",
    "param_grid = np.arange(0.000001, 0.0001, 0.000005)\n",
    "nb_pred = []\n",
    "sigma2 = 1\n",
    "\n",
    "for param in tqdm(param_grid):\n",
    "    occ = OSVM(x)\n",
    "    occ.fit(param, sigma2)\n",
    "    pred = occ.predict(x)\n",
    "    nb_pred.append(np.min(pred))"
   ]
  },
  {
   "cell_type": "code",
   "execution_count": 11,
   "metadata": {},
   "outputs": [
    {
     "data": {
      "text/plain": [
       "[<matplotlib.lines.Line2D at 0x110d92bd0>]"
      ]
     },
     "execution_count": 11,
     "metadata": {},
     "output_type": "execute_result"
    },
    {
     "data": {
      "image/png": "[encoded data removed]",
      "text/plain": [
       "<matplotlib.figure.Figure at 0x110bf4d10>"
      ]
     },
     "metadata": {},
     "output_type": "display_data"
    }
   ],
   "source": [
    "plt.plot(param_grid, nb_pred)"
   ]
  },
  {
   "cell_type": "code",
   "execution_count": 18,
   "metadata": {},
   "outputs": [
    {
     "name": "stderr",
     "output_type": "stream",
     "text": [
      "100%|██████████| 63822/63822 [00:00<00:00, 91610.61it/s]\n"
     ]
    }
   ],
   "source": [
    "def load_img(path):\n",
    "    imgs_set = [line.rstrip('\\n') for line in open(path)]\n",
    "    imgs = []\n",
    "    labels = []\n",
    "    tmp = []\n",
    "    for i in tqdm(range(len(imgs_set))):\n",
    "        if len(imgs_set[i]) == 32:\n",
    "            tmp.append(list(imgs_set[i]))\n",
    "        else:\n",
    "            labels.append(imgs_set[i][1])\n",
    "            imgs.append(np.array(np.reshape(tmp, (32,32)), dtype = float))\n",
    "            tmp = []\n",
    "\n",
    "    return imgs, labels\n",
    "\n",
    "imgs, labels = load_img('optdigits-orig.tra')"
   ]
  },
  {
   "cell_type": "code",
   "execution_count": 19,
   "metadata": {},
   "outputs": [
    {
     "data": {
      "text/plain": [
       "<matplotlib.image.AxesImage at 0x1108ff990>"
      ]
     },
     "execution_count": 19,
     "metadata": {},
     "output_type": "execute_result"
    },
    {
     "data": {
      "image/png": "[encoded data removed]",
      "text/plain": [
       "<matplotlib.figure.Figure at 0x110f284d0>"
      ]
     },
     "metadata": {},
     "output_type": "display_data"
    }
   ],
   "source": [
    "plt.imshow(imgs[0])"
   ]
  },
  {
   "cell_type": "code",
   "execution_count": 21,
   "metadata": {},
   "outputs": [
    {
     "name": "stdout",
     "output_type": "stream",
     "text": [
      "(3823, 80)\n"
     ]
    }
   ],
   "source": [
    "# Train\n",
    "from sklearn.preprocessing import OneHotEncoder\n",
    "\n",
    "X = np.loadtxt(\"optdigits.tra\", delimiter=\",\", unpack=False)\n",
    "X = X[:,:(X.shape[1]-1)]\n",
    "labels = X[:,-1]\n",
    "enc = OneHotEncoder()\n",
    "labels = enc.fit_transform(np.reshape(labels, (len(labels),1))).toarray()\n",
    "\n",
    "x = normalize(np.concatenate([X, labels], axis = 1))\n",
    "print x.shape\n",
    "occ = OSVM(x)\n",
    "#occ = OkMeans(x)\n",
    "nu = 0.05\n",
    "sigma2 = 0.5*32**2\n",
    "#occ.fit(thresh = 1, k = 30) # kNN & Kmeans\n",
    "occ.fit(nu, sigma2) # OSVM"
   ]
  },
  {
   "cell_type": "code",
   "execution_count": 34,
   "metadata": {},
   "outputs": [],
   "source": [
    "# Test\n",
    "\n",
    "pred = occ.predict(x[:len(imgs),:])\n",
    "ix_worse = np.argsort(pred, axis = 0)"
   ]
  },
  {
   "cell_type": "code",
   "execution_count": 35,
   "metadata": {},
   "outputs": [
    {
     "data": {
      "image/png": "[encoded data removed]",
      "text/plain": [
       "<matplotlib.figure.Figure at 0x104ba3fd0>"
      ]
     },
     "metadata": {},
     "output_type": "display_data"
    }
   ],
   "source": [
    "plt.figure(figsize = (15,5))\n",
    "for i in range(10):\n",
    "    plt.subplot(2,10,i+1)\n",
    "    plt.imshow(imgs[ix_worse[i][0]])\n",
    "    plt.subplot(2,10,i+11)\n",
    "    plt.imshow(imgs[ix_worse[i+10][0]])"
   ]
  },
  {
   "cell_type": "code",
   "execution_count": null,
   "metadata": {},
   "outputs": [],
   "source": []
  }
 ],
 "metadata": {
  "kernelspec": {
   "display_name": "Python 2",
   "language": "python",
   "name": "python2"
  },
  "language_info": {
   "codemirror_mode": {
    "name": "ipython",
    "version": 2
   },
   "file_extension": ".py",
   "mimetype": "text/x-python",
   "name": "python",
   "nbconvert_exporter": "python",
   "pygments_lexer": "ipython2",
   "version": "2.7.14"
  }
 },
 "nbformat": 4,
 "nbformat_minor": 2
}
